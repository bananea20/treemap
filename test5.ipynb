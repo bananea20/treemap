{
 "cells": [
  {
   "cell_type": "code",
   "execution_count": 77,
   "metadata": {},
   "outputs": [],
   "source": [
    "import pandas as pd\n",
    "def to_dataframe(texts):\n",
    "    ids = []\n",
    "    labels = []\n",
    "    parents = []\n",
    "    info = []\n",
    "    levels = []\n",
    "    label_length = []\n",
    "\n",
    "    for idx, text in enumerate(texts):\n",
    "        parts = text.split('-')\n",
    "        for i, part in enumerate(parts):\n",
    "            ids.append(\"-\".join(parts[:i+1]))\n",
    "            labels.append(part)\n",
    "            parents.append(\"-\".join(parts[:i]) if i > 0 else \"\")\n",
    "            info.append(part)\n",
    "            levels.append(i+1)\n",
    "            label_length.append(len(part))\n",
    "\n",
    "            \n",
    "            \n",
    "    return pd.DataFrame({\n",
    "        \"ids\": ids,\n",
    "        \"labels\": labels,\n",
    "        \"parents\": parents,\n",
    "        \"info\": info,\n",
    "        \"level\": levels,\n",
    "        \"label_length\": label_length,\n",
    "    })\n",
    "    \n",
    "# 函数功能：将文本转换为dataframe\n"
   ]
  },
  {
   "cell_type": "code",
   "execution_count": 82,
   "metadata": {},
   "outputs": [],
   "source": [
    "with open('example.txt', 'r') as f:\n",
    "    example = f.read()\n",
    "\n",
    "input_list = example.split('\\n')\n",
    "# print(input_list)\n",
    "input_list = to_dataframe(input_list)\n",
    "# print(input_list)"
   ]
  },
  {
   "cell_type": "code",
   "execution_count": 62,
   "metadata": {},
   "outputs": [
    {
     "name": "stdout",
     "output_type": "stream",
     "text": [
      "Index(['ids', 'labels', 'parents', 'info', 'level', 'label_length'], dtype='object')\n"
     ]
    }
   ],
   "source": [
    "# 打印df的标题\n",
    "print(input_list.columns)"
   ]
  },
  {
   "cell_type": "code",
   "execution_count": 65,
   "metadata": {},
   "outputs": [
    {
     "name": "stdout",
     "output_type": "stream",
     "text": [
      "Index(['ids', 'labels', 'parents', 'info', 'level', 'label_length'], dtype='object')\n",
      "0       8\n",
      "1      40\n",
      "2     321\n",
      "3       7\n",
      "4      41\n",
      "5     403\n",
      "6      10\n",
      "7      38\n",
      "8     392\n",
      "9       7\n",
      "10     45\n",
      "11    138\n",
      "12      7\n",
      "13     33\n",
      "14    126\n",
      "15      7\n",
      "16     40\n",
      "17    102\n",
      "18      7\n",
      "19     33\n",
      "20     75\n",
      "21      7\n",
      "22     33\n",
      "23    162\n",
      "Name: label_length, dtype: int64\n"
     ]
    }
   ],
   "source": [
    "# 答应df的标题\n",
    "print(input_list.columns)\n",
    "# 打印df.length\n",
    "print(input_list.label_length)"
   ]
  },
  {
   "cell_type": "code",
   "execution_count": 75,
   "metadata": {},
   "outputs": [],
   "source": [
    "import textwrap\n",
    "def auto_wrap_text(text, max_width):\n",
    "    wrapped_text = textwrap.wrap(text, max_width)\n",
    "    wrapped_text = \"<br>\".join(wrapped_text)\n",
    "    return wrapped_text\n",
    "\n",
    "def apply_wrap(row):\n",
    "    if row['level'] == 1:\n",
    "        return auto_wrap_text(row['labels'], max_width=10)\n",
    "    elif row['level'] == 2:\n",
    "        return auto_wrap_text(row['labels'], max_width=20)\n",
    "    else:\n",
    "        return auto_wrap_text(row['labels'], max_width=20)\n",
    "\n",
    "\n",
    "# 尝试不同的内容的换行\n",
    "# 不同level的换行"
   ]
  },
  {
   "cell_type": "code",
   "execution_count": 83,
   "metadata": {},
   "outputs": [],
   "source": [
    "import random\n",
    "import colorsys\n",
    "\n",
    "base_hue = random.random()  # 在Python的colorsys模块中，色调的范围是0-1，所以我们需要把角度除以360\n",
    "\n",
    "# 生成色系相似的8个颜色\n",
    "base_colors = []\n",
    "for i in range(8):\n",
    "    # 在色调上加上一个小的偏移（在这里是i*10度），并确保结果在0-1范围内\n",
    "    hue = (base_hue + i*10/360) % 1\n",
    "    # 使用饱和度1和亮度0.5生成颜色（这将生成一个鲜艳的颜色）\n",
    "    color = colorsys.hls_to_rgb(hue, 0.5, 1)\n",
    "    # 将颜色从RGB空间转换到十六进制颜色代码\n",
    "    base_colors.append(\"#\"+''.join([f\"{int(val*255):02x}\" for val in color]))\n",
    "    \n",
    "\n",
    "# 转换十六进制颜色代码为RGB颜色值（范围是0-1）\n",
    "base_colors_rgb = [[int(color[i:i+2], 16) / 255 for i in range(1, 6, 2)] for color in base_colors]\n",
    "\n",
    "# 节点和层级的关系，假设我们有8个段落，每个段落有3个层级\n",
    "nodes = [\"P{}-L{}\".format(p, l) for p in range(8) for l in range(3)]\n",
    "levels = [l for p in range(8) for l in range(3)]\n",
    "\n",
    "# 根据节点的层级和对应的基础颜色来生成颜色\n",
    "node_colors = []\n",
    "for i in range(8):\n",
    "    for j in range(3):\n",
    "        # 随着层级增加，将颜色的亮度增加\n",
    "        h, l, s = colorsys.rgb_to_hls(*base_colors_rgb[i])\n",
    "        color = colorsys.hls_to_rgb(h, min(1, l + 0.2*j), s)  # 每次增加20%的亮度，最大为1\n",
    "        node_colors.append(\"rgba\"+str(tuple([int(255*val) for val in color] + [1.0])) + \")\")"
   ]
  },
  {
   "cell_type": "code",
   "execution_count": 92,
   "metadata": {},
   "outputs": [
    {
     "data": {
      "application/vnd.plotly.v1+json": {
       "config": {
        "plotlyServerURL": "https://plot.ly"
       },
       "data": [
        {
         "ids": [
          "1.虚拟现实VR",
          "1.虚拟现实VR-虚拟现实是一种通过计算机生成的模拟环境，使用户能够与虚拟世界进行互动和沉浸式体验",
          "1.虚拟现实VR-虚拟现实是一种通过计算机生成的模拟环境，使用户能够与虚拟世界进行互动和沉浸式体验-虚拟现实（VR）是一种通过计算机技术创造的模拟环境，让用户能够身临其境地感受和探索虚拟世界。虚拟现实技术已经广泛应用于游戏、娱乐、教育、培训和医疗等领域。通过戴上虚拟现实头显和操纵手柄，用户可以沉浸在一个由计算机生成的虚拟环境中，并与虚拟世界进行互动。虚拟现实技术利用先进的图形处理和感知技术，为用户呈现逼真的视觉和听觉效果，从而创造出一种身临其境的感觉。在游戏领域，虚拟现实为玩家提供了全新的游戏体验，让他们可以身临其境地参与游戏世界。在教育领域，虚拟现实可以用于模拟实验、培训和虚拟旅游等方面。在医疗领域，虚拟现实可以帮助医生进行手术模拟、病例演示和康复训练等。通过不断的创新和发展，虚拟现实技术有望在未来为人们带来更加逼真和丰富的体验。",
          "2.区块链技术",
          "2.区块链技术-区块链是一种分布式的账本技术，通过去中心化的方式实现信息的安全存储和交易的可追溯性",
          "2.区块链技术-区块链是一种分布式的账本技术，通过去中心化的方式实现信息的安全存储和交易的可追溯性-区块链技术是一种基于密码学原理的分布式账本技术，它通过去中心化的方式将交易信息记录在一个不断增长的区块链上。每个区块包含了一批交易记录，并通过哈希值链接到前一个区块，形成了一个不可篡改的链式结构。区块链的分布式特性使得信息存储在多个节点上，提高了数据的安全性和可靠性。区块链的应用领域广泛，包括金融、供应链管理、智能合约、数字资产等。在金融领域，区块链可以实现去中心化的数字货币交易，提高交易的透明度和效率。在供应链管理中，区块链可以追踪和验证商品的来源和真实性，减少欺诈和假冒产品的风险。智能合约是基于区块链的自动化合约，可以在无需第三方介入的情况下执行和验证合约条款。此外，区块链还为数字资产的创建、交易和管理提供了安全和可靠的基础设施。尽管区块链技术具有许多潜在的优势，但也面临着一些挑战，如可扩展性、隐私保护和法律法规等方面的问题。随着技术的不断发展和创新，区块链有望在未来的各个领域发挥重要作用。",
          "3.物联网（IoT）",
          "3.物联网（IoT）-物联网是将各种设备、传感器和物体连接到互联网，实现智能化和自动化的网络系统。",
          "3.物联网（IoT）-物联网是将各种设备、传感器和物体连接到互联网，实现智能化和自动化的网络系统。-物联网（Internet of Things，IoT）是一种将传感器、设备和物体连接到互联网的技术。通过物联网，各种物体可以相互通信和交互，实现智能化和自动化的功能。物联网的核心是将物体与互联网连接起来，使其能够收集和共享数据。这些物体可以是传感器、家用电器、车辆、工业设备等。它们通过内置的传感器和通信模块，将收集到的数据发送到云平台进行存储和分析。物联网的应用场景非常广泛。在家庭生活中，物联网可以实现智能家居，通过手机控制家电、监测环境等。在工业领域，物联网可以实现智能制造，监控设备运行状态、优化生产过程等。在城市管理中，物联网可以实现智慧城市，提供交通监控、环境监测、智能停车等服务。物联网的发展给我们的生活带来了许多便利和机会，但也带来了一些挑战，如数据安全和隐私保护。因此，随着物联网的发展，我们需要不断加强相关的安全措施和法律法规的制定，以保障用户的利益和数据的安全。",
          "4.自动驾驶 ",
          "4.自动驾驶 - 自动驾驶是一种通过人工智能技术驾驶车辆的方法，使车辆能够在没有人工操作的情况下自行导航 ",
          "4.自动驾驶 - 自动驾驶是一种通过人工智能技术驾驶车辆的方法，使车辆能够在没有人工操作的情况下自行导航 - 自动驾驶技术利用深度学习、计算机视觉和传感器融合等人工智能技术，让汽车能够理解和适应复杂的道路环境。自动驾驶汽车可以识别行人、其他车辆、交通信号和路标，预测他们的动作，并在需要时做出反应。这种技术的应用可以减少交通事故，提高道路效率，并为驾驶者提供更加舒适和便利的驾驶体验。",
          "5.语音助手 ",
          "5.语音助手 - 语音助手是一种基于人工智能的应用，可以理解和执行用户的语音指令 ",
          "5.语音助手 - 语音助手是一种基于人工智能的应用，可以理解和执行用户的语音指令 - 语音助手，如 Siri、Alexa 和 Google Assistant，使用自然语言处理技术理解用户的指令，然后执行各种任务，如播放音乐、查找信息、设置提醒等。此外，通过机器学习技术，语音助手可以逐渐学习和适应用户的喜好和习惯，提供更个性化的服务。",
          "6.推荐系统 ",
          "6.推荐系统 - 推荐系统是一种人工智能应用，可以根据用户的历史行为和偏好提供个性化的内容推荐 ",
          "6.推荐系统 - 推荐系统是一种人工智能应用，可以根据用户的历史行为和偏好提供个性化的内容推荐 - 推荐系统广泛应用于电子商务、社交媒体和在线视频平台等领域。通过分析用户的历史行为和偏好，推荐系统可以推荐用户可能感兴趣的商品、新闻、电影等内容。这种技术的应用可以提高用户的使用体验，增强平台的用户粘性。",
          "7.图像识别 ",
          "7.图像识别 - 图像识别是一种人工智能技术，可以使计算机理解和识别图像中的内容 ",
          "7.图像识别 - 图像识别是一种人工智能技术，可以使计算机理解和识别图像中的内容 - 图像识别技术利用深度学习和计算机视觉技术，使计算机能够识别图像中的人脸、物体、文字等内容。这种技术的应用包括面部解锁、医疗影像诊断、自动驾驶等领域。",
          "8.机器翻译 ",
          "8.机器翻译 - 机器翻译是一种人工智能应用，可以自动将一种语言翻译成另一种语言 ",
          "8.机器翻译 - 机器翻译是一种人工智能应用，可以自动将一种语言翻译成另一种语言 - 机器翻译技术，如 Google Translate，利用深度学习和自然语言处理技术，理解和翻译源语言的文本，并生成目标语言的翻译。这种技术的应用可以帮助人们跨越语言障碍，更容易地获取和交流信息。同时，随着技术的进步，机器翻译的质量和流畅度也在不断提高，使其在各种场合，如旅行、国际商务、学术研究等，都成为了非常有用的工具。"
         ],
         "insidetextfont": {
          "color": "#FFFFFF",
          "size": 30
         },
         "labels": [
          "1.虚拟现实VR",
          "虚拟现实是一种通过计算机生成的模拟环境，<br>使用户能够与虚拟世界进行互动和沉浸式体验",
          "虚拟现实（VR）是一种通过计算机技术创造<br>的模拟环境，让用户能够身临其境地感受和探<br>索虚拟世界。虚拟现实技术已经广泛应用于游<br>戏、娱乐、教育、培训和医疗等领域。通过戴<br>上虚拟现实头显和操纵手柄，用户可以沉浸在<br>一个由计算机生成的虚拟环境中，并与虚拟世<br>界进行互动。虚拟现实技术利用先进的图形处<br>理和感知技术，为用户呈现逼真的视觉和听觉<br>效果，从而创造出一种身临其境的感觉。在游<br>戏领域，虚拟现实为玩家提供了全新的游戏体<br>验，让他们可以身临其境地参与游戏世界。在<br>教育领域，虚拟现实可以用于模拟实验、培训<br>和虚拟旅游等方面。在医疗领域，虚拟现实可<br>以帮助医生进行手术模拟、病例演示和康复训<br>练等。通过不断的创新和发展，虚拟现实技术<br>有望在未来为人们带来更加逼真和丰富的体验<br>。",
          "2.区块链技术",
          "区块链是一种分布式的账本技术，通过去中心<br>化的方式实现信息的安全存储和交易的可追溯<br>性",
          "区块链技术是一种基于密码学原理的分布式账<br>本技术，它通过去中心化的方式将交易信息记<br>录在一个不断增长的区块链上。每个区块包含<br>了一批交易记录，并通过哈希值链接到前一个<br>区块，形成了一个不可篡改的链式结构。区块<br>链的分布式特性使得信息存储在多个节点上，<br>提高了数据的安全性和可靠性。区块链的应用<br>领域广泛，包括金融、供应链管理、智能合约<br>、数字资产等。在金融领域，区块链可以实现<br>去中心化的数字货币交易，提高交易的透明度<br>和效率。在供应链管理中，区块链可以追踪和<br>验证商品的来源和真实性，减少欺诈和假冒产<br>品的风险。智能合约是基于区块链的自动化合<br>约，可以在无需第三方介入的情况下执行和验<br>证合约条款。此外，区块链还为数字资产的创<br>建、交易和管理提供了安全和可靠的基础设施<br>。尽管区块链技术具有许多潜在的优势，但也<br>面临着一些挑战，如可扩展性、隐私保护和法<br>律法规等方面的问题。随着技术的不断发展和<br>创新，区块链有望在未来的各个领域发挥重要<br>作用。",
          "3.物联网（IoT）",
          "物联网是将各种设备、传感器和物体连接到互<br>联网，实现智能化和自动化的网络系统。",
          "物联网（Internet of Thin<br>gs，IoT）是一种将传感器、设备和物体<br>连接到互联网的技术。通过物联网，各种物体<br>可以相互通信和交互，实现智能化和自动化的<br>功能。物联网的核心是将物体与互联网连接起<br>来，使其能够收集和共享数据。这些物体可以<br>是传感器、家用电器、车辆、工业设备等。它<br>们通过内置的传感器和通信模块，将收集到的<br>数据发送到云平台进行存储和分析。物联网的<br>应用场景非常广泛。在家庭生活中，物联网可<br>以实现智能家居，通过手机控制家电、监测环<br>境等。在工业领域，物联网可以实现智能制造<br>，监控设备运行状态、优化生产过程等。在城<br>市管理中，物联网可以实现智慧城市，提供交<br>通监控、环境监测、智能停车等服务。物联网<br>的发展给我们的生活带来了许多便利和机会，<br>但也带来了一些挑战，如数据安全和隐私保护<br>。因此，随着物联网的发展，我们需要不断加<br>强相关的安全措施和法律法规的制定，以保障<br>用户的利益和数据的安全。",
          "4.自动驾驶",
          " 自动驾驶是一种通过人工智能技术驾驶车辆<br>的方法，使车辆能够在没有人工操作的情况下<br>自行导航",
          " 自动驾驶技术利用深度学习、计算机视觉和<br>传感器融合等人工智能技术，让汽车能够理解<br>和适应复杂的道路环境。自动驾驶汽车可以识<br>别行人、其他车辆、交通信号和路标，预测他<br>们的动作，并在需要时做出反应。这种技术的<br>应用可以减少交通事故，提高道路效率，并为<br>驾驶者提供更加舒适和便利的驾驶体验。",
          "5.语音助手",
          " 语音助手是一种基于人工智能的应用，可以<br>理解和执行用户的语音指令",
          " 语音助手，如 Siri、Alexa 和<br>Google Assistant，使用自<br>然语言处理技术理解用户的指令，然后执行各<br>种任务，如播放音乐、查找信息、设置提醒等<br>。此外，通过机器学习技术，语音助手可以逐<br>渐学习和适应用户的喜好和习惯，提供更个性<br>化的服务。",
          "6.推荐系统",
          " 推荐系统是一种人工智能应用，可以根据用<br>户的历史行为和偏好提供个性化的内容推荐",
          " 推荐系统广泛应用于电子商务、社交媒体和<br>在线视频平台等领域。通过分析用户的历史行<br>为和偏好，推荐系统可以推荐用户可能感兴趣<br>的商品、新闻、电影等内容。这种技术的应用<br>可以提高用户的使用体验，增强平台的用户粘<br>性。",
          "7.图像识别",
          " 图像识别是一种人工智能技术，可以使计算<br>机理解和识别图像中的内容",
          " 图像识别技术利用深度学习和计算机视觉技<br>术，使计算机能够识别图像中的人脸、物体、<br>文字等内容。这种技术的应用包括面部解锁、<br>医疗影像诊断、自动驾驶等领域。",
          "8.机器翻译",
          " 机器翻译是一种人工智能应用，可以自动将<br>一种语言翻译成另一种语言",
          " 机器翻译技术，如 Google Tra<br>nslate，利用深度学习和自然语言处理<br>技术，理解和翻译源语言的文本，并生成目标<br>语言的翻译。这种技术的应用可以帮助人们跨<br>越语言障碍，更容易地获取和交流信息。同时<br>，随着技术的进步，机器翻译的质量和流畅度<br>也在不断提高，使其在各种场合，如旅行、国<br>际商务、学术研究等，都成为了非常有用的工<br>具。"
         ],
         "marker": {
          "colors": [
           8,
           40,
           321,
           7,
           41,
           403,
           10,
           38,
           392,
           7,
           45,
           138,
           7,
           33,
           126,
           7,
           40,
           102,
           7,
           33,
           75,
           7,
           33,
           162
          ],
          "colorscale": [
           [
            0,
            "#440154"
           ],
           [
            0.1111111111111111,
            "#482878"
           ],
           [
            0.2222222222222222,
            "#3e4989"
           ],
           [
            0.3333333333333333,
            "#31688e"
           ],
           [
            0.4444444444444444,
            "#26828e"
           ],
           [
            0.5555555555555556,
            "#1f9e89"
           ],
           [
            0.6666666666666666,
            "#35b779"
           ],
           [
            0.7777777777777778,
            "#6ece58"
           ],
           [
            0.8888888888888888,
            "#b5de2b"
           ],
           [
            1,
            "#fde725"
           ]
          ],
          "cornerradius": 20
         },
         "maxdepth": 2,
         "outsidetextfont": {
          "color": "#FF0000",
          "family": "Arial",
          "size": 15
         },
         "parents": [
          "",
          "1.虚拟现实VR",
          "1.虚拟现实VR-虚拟现实是一种通过计算机生成的模拟环境，使用户能够与虚拟世界进行互动和沉浸式体验",
          "",
          "2.区块链技术",
          "2.区块链技术-区块链是一种分布式的账本技术，通过去中心化的方式实现信息的安全存储和交易的可追溯性",
          "",
          "3.物联网（IoT）",
          "3.物联网（IoT）-物联网是将各种设备、传感器和物体连接到互联网，实现智能化和自动化的网络系统。",
          "",
          "4.自动驾驶 ",
          "4.自动驾驶 - 自动驾驶是一种通过人工智能技术驾驶车辆的方法，使车辆能够在没有人工操作的情况下自行导航 ",
          "",
          "5.语音助手 ",
          "5.语音助手 - 语音助手是一种基于人工智能的应用，可以理解和执行用户的语音指令 ",
          "",
          "6.推荐系统 ",
          "6.推荐系统 - 推荐系统是一种人工智能应用，可以根据用户的历史行为和偏好提供个性化的内容推荐 ",
          "",
          "7.图像识别 ",
          "7.图像识别 - 图像识别是一种人工智能技术，可以使计算机理解和识别图像中的内容 ",
          "",
          "8.机器翻译 ",
          "8.机器翻译 - 机器翻译是一种人工智能应用，可以自动将一种语言翻译成另一种语言 "
         ],
         "tiling": {
          "packing": "squarify",
          "pad": 0.2
         },
         "type": "treemap"
        }
       ],
       "layout": {
        "height": 600,
        "margin": {
         "b": 25,
         "l": 25,
         "r": 25,
         "t": 50
        },
        "template": {
         "data": {
          "bar": [
           {
            "error_x": {
             "color": "#2a3f5f"
            },
            "error_y": {
             "color": "#2a3f5f"
            },
            "marker": {
             "line": {
              "color": "#E5ECF6",
              "width": 0.5
             },
             "pattern": {
              "fillmode": "overlay",
              "size": 10,
              "solidity": 0.2
             }
            },
            "type": "bar"
           }
          ],
          "barpolar": [
           {
            "marker": {
             "line": {
              "color": "#E5ECF6",
              "width": 0.5
             },
             "pattern": {
              "fillmode": "overlay",
              "size": 10,
              "solidity": 0.2
             }
            },
            "type": "barpolar"
           }
          ],
          "carpet": [
           {
            "aaxis": {
             "endlinecolor": "#2a3f5f",
             "gridcolor": "white",
             "linecolor": "white",
             "minorgridcolor": "white",
             "startlinecolor": "#2a3f5f"
            },
            "baxis": {
             "endlinecolor": "#2a3f5f",
             "gridcolor": "white",
             "linecolor": "white",
             "minorgridcolor": "white",
             "startlinecolor": "#2a3f5f"
            },
            "type": "carpet"
           }
          ],
          "choropleth": [
           {
            "colorbar": {
             "outlinewidth": 0,
             "ticks": ""
            },
            "type": "choropleth"
           }
          ],
          "contour": [
           {
            "colorbar": {
             "outlinewidth": 0,
             "ticks": ""
            },
            "colorscale": [
             [
              0,
              "#0d0887"
             ],
             [
              0.1111111111111111,
              "#46039f"
             ],
             [
              0.2222222222222222,
              "#7201a8"
             ],
             [
              0.3333333333333333,
              "#9c179e"
             ],
             [
              0.4444444444444444,
              "#bd3786"
             ],
             [
              0.5555555555555556,
              "#d8576b"
             ],
             [
              0.6666666666666666,
              "#ed7953"
             ],
             [
              0.7777777777777778,
              "#fb9f3a"
             ],
             [
              0.8888888888888888,
              "#fdca26"
             ],
             [
              1,
              "#f0f921"
             ]
            ],
            "type": "contour"
           }
          ],
          "contourcarpet": [
           {
            "colorbar": {
             "outlinewidth": 0,
             "ticks": ""
            },
            "type": "contourcarpet"
           }
          ],
          "heatmap": [
           {
            "colorbar": {
             "outlinewidth": 0,
             "ticks": ""
            },
            "colorscale": [
             [
              0,
              "#0d0887"
             ],
             [
              0.1111111111111111,
              "#46039f"
             ],
             [
              0.2222222222222222,
              "#7201a8"
             ],
             [
              0.3333333333333333,
              "#9c179e"
             ],
             [
              0.4444444444444444,
              "#bd3786"
             ],
             [
              0.5555555555555556,
              "#d8576b"
             ],
             [
              0.6666666666666666,
              "#ed7953"
             ],
             [
              0.7777777777777778,
              "#fb9f3a"
             ],
             [
              0.8888888888888888,
              "#fdca26"
             ],
             [
              1,
              "#f0f921"
             ]
            ],
            "type": "heatmap"
           }
          ],
          "heatmapgl": [
           {
            "colorbar": {
             "outlinewidth": 0,
             "ticks": ""
            },
            "colorscale": [
             [
              0,
              "#0d0887"
             ],
             [
              0.1111111111111111,
              "#46039f"
             ],
             [
              0.2222222222222222,
              "#7201a8"
             ],
             [
              0.3333333333333333,
              "#9c179e"
             ],
             [
              0.4444444444444444,
              "#bd3786"
             ],
             [
              0.5555555555555556,
              "#d8576b"
             ],
             [
              0.6666666666666666,
              "#ed7953"
             ],
             [
              0.7777777777777778,
              "#fb9f3a"
             ],
             [
              0.8888888888888888,
              "#fdca26"
             ],
             [
              1,
              "#f0f921"
             ]
            ],
            "type": "heatmapgl"
           }
          ],
          "histogram": [
           {
            "marker": {
             "pattern": {
              "fillmode": "overlay",
              "size": 10,
              "solidity": 0.2
             }
            },
            "type": "histogram"
           }
          ],
          "histogram2d": [
           {
            "colorbar": {
             "outlinewidth": 0,
             "ticks": ""
            },
            "colorscale": [
             [
              0,
              "#0d0887"
             ],
             [
              0.1111111111111111,
              "#46039f"
             ],
             [
              0.2222222222222222,
              "#7201a8"
             ],
             [
              0.3333333333333333,
              "#9c179e"
             ],
             [
              0.4444444444444444,
              "#bd3786"
             ],
             [
              0.5555555555555556,
              "#d8576b"
             ],
             [
              0.6666666666666666,
              "#ed7953"
             ],
             [
              0.7777777777777778,
              "#fb9f3a"
             ],
             [
              0.8888888888888888,
              "#fdca26"
             ],
             [
              1,
              "#f0f921"
             ]
            ],
            "type": "histogram2d"
           }
          ],
          "histogram2dcontour": [
           {
            "colorbar": {
             "outlinewidth": 0,
             "ticks": ""
            },
            "colorscale": [
             [
              0,
              "#0d0887"
             ],
             [
              0.1111111111111111,
              "#46039f"
             ],
             [
              0.2222222222222222,
              "#7201a8"
             ],
             [
              0.3333333333333333,
              "#9c179e"
             ],
             [
              0.4444444444444444,
              "#bd3786"
             ],
             [
              0.5555555555555556,
              "#d8576b"
             ],
             [
              0.6666666666666666,
              "#ed7953"
             ],
             [
              0.7777777777777778,
              "#fb9f3a"
             ],
             [
              0.8888888888888888,
              "#fdca26"
             ],
             [
              1,
              "#f0f921"
             ]
            ],
            "type": "histogram2dcontour"
           }
          ],
          "mesh3d": [
           {
            "colorbar": {
             "outlinewidth": 0,
             "ticks": ""
            },
            "type": "mesh3d"
           }
          ],
          "parcoords": [
           {
            "line": {
             "colorbar": {
              "outlinewidth": 0,
              "ticks": ""
             }
            },
            "type": "parcoords"
           }
          ],
          "pie": [
           {
            "automargin": true,
            "type": "pie"
           }
          ],
          "scatter": [
           {
            "fillpattern": {
             "fillmode": "overlay",
             "size": 10,
             "solidity": 0.2
            },
            "type": "scatter"
           }
          ],
          "scatter3d": [
           {
            "line": {
             "colorbar": {
              "outlinewidth": 0,
              "ticks": ""
             }
            },
            "marker": {
             "colorbar": {
              "outlinewidth": 0,
              "ticks": ""
             }
            },
            "type": "scatter3d"
           }
          ],
          "scattercarpet": [
           {
            "marker": {
             "colorbar": {
              "outlinewidth": 0,
              "ticks": ""
             }
            },
            "type": "scattercarpet"
           }
          ],
          "scattergeo": [
           {
            "marker": {
             "colorbar": {
              "outlinewidth": 0,
              "ticks": ""
             }
            },
            "type": "scattergeo"
           }
          ],
          "scattergl": [
           {
            "marker": {
             "colorbar": {
              "outlinewidth": 0,
              "ticks": ""
             }
            },
            "type": "scattergl"
           }
          ],
          "scattermapbox": [
           {
            "marker": {
             "colorbar": {
              "outlinewidth": 0,
              "ticks": ""
             }
            },
            "type": "scattermapbox"
           }
          ],
          "scatterpolar": [
           {
            "marker": {
             "colorbar": {
              "outlinewidth": 0,
              "ticks": ""
             }
            },
            "type": "scatterpolar"
           }
          ],
          "scatterpolargl": [
           {
            "marker": {
             "colorbar": {
              "outlinewidth": 0,
              "ticks": ""
             }
            },
            "type": "scatterpolargl"
           }
          ],
          "scatterternary": [
           {
            "marker": {
             "colorbar": {
              "outlinewidth": 0,
              "ticks": ""
             }
            },
            "type": "scatterternary"
           }
          ],
          "surface": [
           {
            "colorbar": {
             "outlinewidth": 0,
             "ticks": ""
            },
            "colorscale": [
             [
              0,
              "#0d0887"
             ],
             [
              0.1111111111111111,
              "#46039f"
             ],
             [
              0.2222222222222222,
              "#7201a8"
             ],
             [
              0.3333333333333333,
              "#9c179e"
             ],
             [
              0.4444444444444444,
              "#bd3786"
             ],
             [
              0.5555555555555556,
              "#d8576b"
             ],
             [
              0.6666666666666666,
              "#ed7953"
             ],
             [
              0.7777777777777778,
              "#fb9f3a"
             ],
             [
              0.8888888888888888,
              "#fdca26"
             ],
             [
              1,
              "#f0f921"
             ]
            ],
            "type": "surface"
           }
          ],
          "table": [
           {
            "cells": {
             "fill": {
              "color": "#EBF0F8"
             },
             "line": {
              "color": "white"
             }
            },
            "header": {
             "fill": {
              "color": "#C8D4E3"
             },
             "line": {
              "color": "white"
             }
            },
            "type": "table"
           }
          ]
         },
         "layout": {
          "annotationdefaults": {
           "arrowcolor": "#2a3f5f",
           "arrowhead": 0,
           "arrowwidth": 1
          },
          "autotypenumbers": "strict",
          "coloraxis": {
           "colorbar": {
            "outlinewidth": 0,
            "ticks": ""
           }
          },
          "colorscale": {
           "diverging": [
            [
             0,
             "#8e0152"
            ],
            [
             0.1,
             "#c51b7d"
            ],
            [
             0.2,
             "#de77ae"
            ],
            [
             0.3,
             "#f1b6da"
            ],
            [
             0.4,
             "#fde0ef"
            ],
            [
             0.5,
             "#f7f7f7"
            ],
            [
             0.6,
             "#e6f5d0"
            ],
            [
             0.7,
             "#b8e186"
            ],
            [
             0.8,
             "#7fbc41"
            ],
            [
             0.9,
             "#4d9221"
            ],
            [
             1,
             "#276419"
            ]
           ],
           "sequential": [
            [
             0,
             "#0d0887"
            ],
            [
             0.1111111111111111,
             "#46039f"
            ],
            [
             0.2222222222222222,
             "#7201a8"
            ],
            [
             0.3333333333333333,
             "#9c179e"
            ],
            [
             0.4444444444444444,
             "#bd3786"
            ],
            [
             0.5555555555555556,
             "#d8576b"
            ],
            [
             0.6666666666666666,
             "#ed7953"
            ],
            [
             0.7777777777777778,
             "#fb9f3a"
            ],
            [
             0.8888888888888888,
             "#fdca26"
            ],
            [
             1,
             "#f0f921"
            ]
           ],
           "sequentialminus": [
            [
             0,
             "#0d0887"
            ],
            [
             0.1111111111111111,
             "#46039f"
            ],
            [
             0.2222222222222222,
             "#7201a8"
            ],
            [
             0.3333333333333333,
             "#9c179e"
            ],
            [
             0.4444444444444444,
             "#bd3786"
            ],
            [
             0.5555555555555556,
             "#d8576b"
            ],
            [
             0.6666666666666666,
             "#ed7953"
            ],
            [
             0.7777777777777778,
             "#fb9f3a"
            ],
            [
             0.8888888888888888,
             "#fdca26"
            ],
            [
             1,
             "#f0f921"
            ]
           ]
          },
          "colorway": [
           "#636efa",
           "#EF553B",
           "#00cc96",
           "#ab63fa",
           "#FFA15A",
           "#19d3f3",
           "#FF6692",
           "#B6E880",
           "#FF97FF",
           "#FECB52"
          ],
          "font": {
           "color": "#2a3f5f"
          },
          "geo": {
           "bgcolor": "white",
           "lakecolor": "white",
           "landcolor": "#E5ECF6",
           "showlakes": true,
           "showland": true,
           "subunitcolor": "white"
          },
          "hoverlabel": {
           "align": "left"
          },
          "hovermode": "closest",
          "mapbox": {
           "style": "light"
          },
          "paper_bgcolor": "white",
          "plot_bgcolor": "#E5ECF6",
          "polar": {
           "angularaxis": {
            "gridcolor": "white",
            "linecolor": "white",
            "ticks": ""
           },
           "bgcolor": "#E5ECF6",
           "radialaxis": {
            "gridcolor": "white",
            "linecolor": "white",
            "ticks": ""
           }
          },
          "scene": {
           "xaxis": {
            "backgroundcolor": "#E5ECF6",
            "gridcolor": "white",
            "gridwidth": 2,
            "linecolor": "white",
            "showbackground": true,
            "ticks": "",
            "zerolinecolor": "white"
           },
           "yaxis": {
            "backgroundcolor": "#E5ECF6",
            "gridcolor": "white",
            "gridwidth": 2,
            "linecolor": "white",
            "showbackground": true,
            "ticks": "",
            "zerolinecolor": "white"
           },
           "zaxis": {
            "backgroundcolor": "#E5ECF6",
            "gridcolor": "white",
            "gridwidth": 2,
            "linecolor": "white",
            "showbackground": true,
            "ticks": "",
            "zerolinecolor": "white"
           }
          },
          "shapedefaults": {
           "line": {
            "color": "#2a3f5f"
           }
          },
          "ternary": {
           "aaxis": {
            "gridcolor": "white",
            "linecolor": "white",
            "ticks": ""
           },
           "baxis": {
            "gridcolor": "white",
            "linecolor": "white",
            "ticks": ""
           },
           "bgcolor": "#E5ECF6",
           "caxis": {
            "gridcolor": "white",
            "linecolor": "white",
            "ticks": ""
           }
          },
          "title": {
           "x": 0.05
          },
          "xaxis": {
           "automargin": true,
           "gridcolor": "white",
           "linecolor": "white",
           "ticks": "",
           "title": {
            "standoff": 15
           },
           "zerolinecolor": "white",
           "zerolinewidth": 2
          },
          "yaxis": {
           "automargin": true,
           "gridcolor": "white",
           "linecolor": "white",
           "ticks": "",
           "title": {
            "standoff": 15
           },
           "zerolinecolor": "white",
           "zerolinewidth": 2
          }
         }
        },
        "title": {
         "font": {
          "color": "RebeccaPurple",
          "family": "Courier New, monospace",
          "size": 20
         },
         "text": "<b>人工智能在不同行业的应用",
         "x": 0.5,
         "xanchor": "center"
        },
        "width": 600
       }
      }
     },
     "metadata": {},
     "output_type": "display_data"
    }
   ],
   "source": [
    "from jupyter_dash import JupyterDash\n",
    "import dash_core_components as dcc\n",
    "import dash_html_components as html\n",
    "from dash.dependencies import Input, Output, State\n",
    "import plotly.graph_objects as go\n",
    "import pandas as pd\n",
    "import json\n",
    "import textwrap\n",
    "import numpy as np\n",
    "import plotly.colors as colors\n",
    "import matplotlib.pyplot as plt\n",
    "import random\n",
    "import colorsys\n",
    "\n",
    "\n",
    "\n",
    "# 读取文本\n",
    "with open('example.txt', 'r') as f:\n",
    "    example = f.read()\n",
    "input_list = example.split('\\n')\n",
    "input_list = to_dataframe(input_list)\n",
    "\n",
    "\n",
    "# 生成模拟数据\n",
    "df = pd.DataFrame(input_list)\n",
    "df[\"labels\"] = df.apply(apply_wrap, axis=1)\n",
    "\n",
    "\n",
    "\n",
    "fig = go.Figure(go.Treemap(\n",
    "    ids=df['ids'],\n",
    "    labels=df['labels'],\n",
    "    parents=df['parents'],\n",
    "\n",
    "    maxdepth=2,\n",
    "    # text=df['labels'],\n",
    "    insidetextfont=dict(size=30, color='#FFFFFF'),\n",
    "    outsidetextfont=dict(size=15, color='#FF0000', family='Arial'),\n",
    "    # marker=dict(\n",
    "    #     colors=df['label_length'],  # 使用label_length列的值来定义颜色\n",
    "    #     colorscale='Viridis'  # 定义颜色比例尺,\"Twilight, Viridis\"、\"Cividis\"、\"Plasma\"\n",
    "    # ),\n",
    "    marker=dict(\n",
    "        colors=df['label_length'],  # 使用label_length列的值来定义颜色\n",
    "        colorscale='Reds',  # 定义自定义颜色比例尺，从红色到浅红色\n",
    "        reversescale=True  # 颜色比例尺反转，从红色到蓝色\n",
    "    ),\n",
    "    # marker_colors=node_colors,  # 使用标签长度作为权重\n",
    "    \n",
    "    tiling=dict(\n",
    "    packing='squarify', # slice-dice  # Set packing algorithm to 'squarify' # 布局方式\n",
    "    pad=0.2\n",
    "    )\n",
    "))\n",
    "\n",
    "fig.update_layout(\n",
    "    # title=\"人工智能在不同行业的应用\",  # 添加标题\n",
    "    title={\n",
    "    'text': \"<b>人工智能在不同行业的应用\",\n",
    "    'x': 0.5,  # 将标题的 x 位置设置为 0.5，即图形的中心\n",
    "    'xanchor': 'center',  # 将标题的 x 锚点设置为 'center'，即标题的中心\n",
    "    # 'y' : 0.96 , # 高度调整\n",
    "    },\n",
    "    title_font=dict(\n",
    "    family=\"Courier New, monospace\",  # 设置字体\n",
    "    size=20,  # 设置字体大小\n",
    "    color=\"RebeccaPurple\"  # 设置字体颜色\n",
    "    ),\n",
    "    # uniformtext=dict(minsize=15, mode='hide'), \n",
    "    margin = dict(t=50, l=25, r=25, b=25),\n",
    "    width=600,\n",
    "    height=600,\n",
    "\n",
    ")\n",
    "\n",
    "\n",
    "fig.update_traces(marker=dict(cornerradius=20)) # 圆角\n",
    "fig.show()\n",
    "\n",
    "\n"
   ]
  }
 ],
 "metadata": {
  "kernelspec": {
   "display_name": "base",
   "language": "python",
   "name": "python3"
  },
  "language_info": {
   "codemirror_mode": {
    "name": "ipython",
    "version": 3
   },
   "file_extension": ".py",
   "mimetype": "text/x-python",
   "name": "python",
   "nbconvert_exporter": "python",
   "pygments_lexer": "ipython3",
   "version": "3.8.8"
  },
  "orig_nbformat": 4
 },
 "nbformat": 4,
 "nbformat_minor": 2
}
