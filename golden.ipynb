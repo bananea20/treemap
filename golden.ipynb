{
 "cells": [
  {
   "cell_type": "code",
   "execution_count": 1,
   "metadata": {},
   "outputs": [
    {
     "data": {
      "image/png": "[encoded data removed]",
      "text/plain": [
       "<Figure size 432x288 with 1 Axes>"
      ]
     },
     "metadata": {
      "needs_background": "light"
     },
     "output_type": "display_data"
    }
   ],
   "source": [
    "import matplotlib.pyplot as plt\n",
    "import matplotlib.patches as patches\n",
    "\n",
    "def golden_ratio_split_draw(height, width, count):\n",
    "    golden_ratio = 0.618\n",
    "    rectangle_list = []\n",
    "\n",
    "    def split_rectangle(height, width, count):\n",
    "        if count == 0:\n",
    "            return\n",
    "\n",
    "        long_side = max(height, width)\n",
    "        short_side = min(height, width)\n",
    "\n",
    "        if height > width:\n",
    "            new_height = long_side * golden_ratio\n",
    "            new_width = short_side\n",
    "            rectangle_list.append((new_height, new_width))\n",
    "            split_rectangle(height - new_height, width, count - 1)\n",
    "        else:\n",
    "            new_height = short_side\n",
    "            new_width = long_side * golden_ratio\n",
    "            rectangle_list.append((new_height, new_width))\n",
    "            split_rectangle(height, width - new_width, count - 1)\n",
    "\n",
    "    split_rectangle(height, width, count)\n",
    "\n",
    "    fig, ax = plt.subplots()\n",
    "    ax.set_xlim(0, width)\n",
    "    ax.set_ylim(0, height)\n",
    "\n",
    "    x, y = 0, height\n",
    "    for rectangle in rectangle_list:\n",
    "        h, w = rectangle\n",
    "        if y - h >= 0:\n",
    "            rect = patches.Rectangle((x, y - h), w, h, linewidth=1, edgecolor='black', facecolor='none')\n",
    "            ax.add_patch(rect)\n",
    "            y -= h\n",
    "        else:\n",
    "            x += w\n",
    "            y = height - h\n",
    "            rect = patches.Rectangle((x, y), w, h, linewidth=1, edgecolor='black', facecolor='none')\n",
    "            ax.add_patch(rect)\n",
    "\n",
    "    plt.gca().set_aspect('equal', adjustable='box')\n",
    "    plt.show()\n",
    "\n",
    "# Example\n"
   ]
  },
  {
   "cell_type": "code",
   "execution_count": 8,
   "metadata": {},
   "outputs": [
    {
     "data": {
      "image/png": "[encoded data removed]",
      "text/plain": [
       "<Figure size 432x288 with 1 Axes>"
      ]
     },
     "metadata": {
      "needs_background": "light"
     },
     "output_type": "display_data"
    }
   ],
   "source": [
    "golden_ratio_split_draw(900, 1600, 3)\n"
   ]
  }
 ],
 "metadata": {
  "kernelspec": {
   "display_name": "base",
   "language": "python",
   "name": "python3"
  },
  "language_info": {
   "codemirror_mode": {
    "name": "ipython",
    "version": 3
   },
   "file_extension": ".py",
   "mimetype": "text/x-python",
   "name": "python",
   "nbconvert_exporter": "python",
   "pygments_lexer": "ipython3",
   "version": "3.8.8"
  },
  "orig_nbformat": 4,
  "vscode": {
   "interpreter": {
    "hash": "d12a6980af1de3549060b7b451d48d445ec6b4aaeaf0b0e12a509d2182e95745"
   }
  }
 },
 "nbformat": 4,
 "nbformat_minor": 2
}
