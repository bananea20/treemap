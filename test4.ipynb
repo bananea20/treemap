{
 "cells": [
  {
   "cell_type": "code",
   "execution_count": 1,
   "metadata": {},
   "outputs": [],
   "source": [
    "import pandas as pd\n",
    "def to_dataframe(texts):\n",
    "    ids = []\n",
    "    labels = []\n",
    "    parents = []\n",
    "    info = []\n",
    "    levels = []\n",
    "\n",
    "    for idx, text in enumerate(texts):\n",
    "        parts = text.split('-')\n",
    "        for i, part in enumerate(parts):\n",
    "            ids.append(\"-\".join(parts[:i+1]))\n",
    "            labels.append(part)\n",
    "            parents.append(\"-\".join(parts[:i]) if i > 0 else \"\")\n",
    "            info.append(part)\n",
    "            levels.append(i+1)\n",
    "    return pd.DataFrame({\n",
    "        \"ids\": ids,\n",
    "        \"labels\": labels,\n",
    "        \"parents\": parents,\n",
    "        \"info\": info,\n",
    "        \"level\": levels\n",
    "    })\n"
   ]
  },
  {
   "cell_type": "code",
   "execution_count": 46,
   "metadata": {},
   "outputs": [
    {
     "name": "stdout",
     "output_type": "stream",
     "text": [
      "['Chatbots - Chatbots are AI-based software designed to interact with humans in their natural languages. - These chatbots are commonly used in industries for customer service, request routing, or for information gathering tasks. They use natural language processing (NLP) and machine learning algorithms to understand and respond to human inputs, making them an effective tool for 24/7 customer support.', \"Recommendation Systems - Recommendation systems are a popular AI application, transforming the way online businesses engage with customers. - They analyze a user's behavior, preferences, and interaction history to provide personalized product or content suggestions. This technology is widely used in sectors such as eCommerce, entertainment (Netflix's movie recommendations, for example), and digital advertising.\", 'Autonomous Vehicles - Autonomous vehicles leverage AI technology to navigate and understand the environment without human input. - These vehicles use a combination of sensors, cameras, Lidar data, mapping technology, and machine learning algorithms to drive safely and efficiently, thereby potentially reducing human error and increasing the productivity of transport and delivery services.', 'Fraud Detection - AI is playing a crucial role in detecting and preventing fraud in various sectors, particularly in the financial industry. - By using machine learning algorithms and predictive analytics, AI systems can identify suspicious activities, analyze transaction patterns, and raise real-time alerts for potential fraud. This not only helps in reducing the risk of fraud but also enhances operational efficiency.', 'Healthcare Diagnostics - AI is revolutionizing the healthcare industry by enabling faster and more accurate diagnostics. - AI algorithms can analyze complex medical images like CT scans and MRI images to detect anomalies such as tumors, fractures, or diseases at a much earlier stage. This could significantly improve treatment outcomes and enhance patient care.']\n",
      "                                                  ids   \n",
      "0                                           Chatbots   \\\n",
      "1                          Chatbots - Chatbots are AI   \n",
      "2   Chatbots - Chatbots are AI-based software desi...   \n",
      "3   Chatbots - Chatbots are AI-based software desi...   \n",
      "4                             Recommendation Systems    \n",
      "5   Recommendation Systems - Recommendation system...   \n",
      "6   Recommendation Systems - Recommendation system...   \n",
      "7                                Autonomous Vehicles    \n",
      "8   Autonomous Vehicles - Autonomous vehicles leve...   \n",
      "9   Autonomous Vehicles - Autonomous vehicles leve...   \n",
      "10                                   Fraud Detection    \n",
      "11  Fraud Detection - AI is playing a crucial role...   \n",
      "12  Fraud Detection - AI is playing a crucial role...   \n",
      "13  Fraud Detection - AI is playing a crucial role...   \n",
      "14                            Healthcare Diagnostics    \n",
      "15  Healthcare Diagnostics - AI is revolutionizing...   \n",
      "16  Healthcare Diagnostics - AI is revolutionizing...   \n",
      "\n",
      "                                               labels   \n",
      "0                                           Chatbots   \\\n",
      "1                                     Chatbots are AI   \n",
      "2   based software designed to interact with human...   \n",
      "3    These chatbots are commonly used in industrie...   \n",
      "4                             Recommendation Systems    \n",
      "5    Recommendation systems are a popular AI appli...   \n",
      "6    They analyze a user's behavior, preferences, ...   \n",
      "7                                Autonomous Vehicles    \n",
      "8    Autonomous vehicles leverage AI technology to...   \n",
      "9    These vehicles use a combination of sensors, ...   \n",
      "10                                   Fraud Detection    \n",
      "11   AI is playing a crucial role in detecting and...   \n",
      "12   By using machine learning algorithms and pred...   \n",
      "13  time alerts for potential fraud. This not only...   \n",
      "14                            Healthcare Diagnostics    \n",
      "15   AI is revolutionizing the healthcare industry...   \n",
      "16   AI algorithms can analyze complex medical ima...   \n",
      "\n",
      "                                              parents   \n",
      "0                                                      \\\n",
      "1                                           Chatbots    \n",
      "2                          Chatbots - Chatbots are AI   \n",
      "3   Chatbots - Chatbots are AI-based software desi...   \n",
      "4                                                       \n",
      "5                             Recommendation Systems    \n",
      "6   Recommendation Systems - Recommendation system...   \n",
      "7                                                       \n",
      "8                                Autonomous Vehicles    \n",
      "9   Autonomous Vehicles - Autonomous vehicles leve...   \n",
      "10                                                      \n",
      "11                                   Fraud Detection    \n",
      "12  Fraud Detection - AI is playing a crucial role...   \n",
      "13  Fraud Detection - AI is playing a crucial role...   \n",
      "14                                                      \n",
      "15                            Healthcare Diagnostics    \n",
      "16  Healthcare Diagnostics - AI is revolutionizing...   \n",
      "\n",
      "                                                 info  level  \n",
      "0                                           Chatbots       1  \n",
      "1                                     Chatbots are AI      2  \n",
      "2   based software designed to interact with human...      3  \n",
      "3    These chatbots are commonly used in industrie...      4  \n",
      "4                             Recommendation Systems       1  \n",
      "5    Recommendation systems are a popular AI appli...      2  \n",
      "6    They analyze a user's behavior, preferences, ...      3  \n",
      "7                                Autonomous Vehicles       1  \n",
      "8    Autonomous vehicles leverage AI technology to...      2  \n",
      "9    These vehicles use a combination of sensors, ...      3  \n",
      "10                                   Fraud Detection       1  \n",
      "11   AI is playing a crucial role in detecting and...      2  \n",
      "12   By using machine learning algorithms and pred...      3  \n",
      "13  time alerts for potential fraud. This not only...      4  \n",
      "14                            Healthcare Diagnostics       1  \n",
      "15   AI is revolutionizing the healthcare industry...      2  \n",
      "16   AI algorithms can analyze complex medical ima...      3  \n"
     ]
    }
   ],
   "source": [
    "with open('example2.txt', 'r') as f:\n",
    "    example = f.read()\n",
    "\n",
    "input_list = example.split('\\n')\n",
    "print(input_list)\n",
    "input_list = to_dataframe(input_list)\n",
    "print(input_list)"
   ]
  },
  {
   "cell_type": "code",
   "execution_count": 49,
   "metadata": {},
   "outputs": [],
   "source": [
    "import textwrap\n",
    "def auto_wrap_text(text, max_width):\n",
    "    wrapped_text = textwrap.wrap(text, max_width)\n",
    "    wrapped_text = \"<br>\".join(wrapped_text)\n",
    "    return wrapped_text\n",
    "\n",
    "def apply_wrap(row):\n",
    "    if row['level'] == 1:\n",
    "        return auto_wrap_text(row['labels'], max_width=30)\n",
    "    elif row['level'] == 2:\n",
    "        return auto_wrap_text(row['labels'], max_width=50)\n",
    "    else:\n",
    "        return auto_wrap_text(row['labels'], max_width=80)\n",
    "\n",
    "\n",
    "# 尝试不同的内容的换行\n",
    "# 不同level的换行"
   ]
  },
  {
   "cell_type": "code",
   "execution_count": 50,
   "metadata": {},
   "outputs": [
    {
     "data": {
      "application/vnd.plotly.v1+json": {
       "config": {
        "plotlyServerURL": "https://plot.ly"
       },
       "data": [
        {
         "ids": [
          "Chatbots ",
          "Chatbots - Chatbots are AI",
          "Chatbots - Chatbots are AI-based software designed to interact with humans in their natural languages. ",
          "Chatbots - Chatbots are AI-based software designed to interact with humans in their natural languages. - These chatbots are commonly used in industries for customer service, request routing, or for information gathering tasks. They use natural language processing (NLP) and machine learning algorithms to understand and respond to human inputs, making them an effective tool for 24/7 customer support.",
          "Recommendation Systems ",
          "Recommendation Systems - Recommendation systems are a popular AI application, transforming the way online businesses engage with customers. ",
          "Recommendation Systems - Recommendation systems are a popular AI application, transforming the way online businesses engage with customers. - They analyze a user's behavior, preferences, and interaction history to provide personalized product or content suggestions. This technology is widely used in sectors such as eCommerce, entertainment (Netflix's movie recommendations, for example), and digital advertising.",
          "Autonomous Vehicles ",
          "Autonomous Vehicles - Autonomous vehicles leverage AI technology to navigate and understand the environment without human input. ",
          "Autonomous Vehicles - Autonomous vehicles leverage AI technology to navigate and understand the environment without human input. - These vehicles use a combination of sensors, cameras, Lidar data, mapping technology, and machine learning algorithms to drive safely and efficiently, thereby potentially reducing human error and increasing the productivity of transport and delivery services.",
          "Fraud Detection ",
          "Fraud Detection - AI is playing a crucial role in detecting and preventing fraud in various sectors, particularly in the financial industry. ",
          "Fraud Detection - AI is playing a crucial role in detecting and preventing fraud in various sectors, particularly in the financial industry. - By using machine learning algorithms and predictive analytics, AI systems can identify suspicious activities, analyze transaction patterns, and raise real",
          "Fraud Detection - AI is playing a crucial role in detecting and preventing fraud in various sectors, particularly in the financial industry. - By using machine learning algorithms and predictive analytics, AI systems can identify suspicious activities, analyze transaction patterns, and raise real-time alerts for potential fraud. This not only helps in reducing the risk of fraud but also enhances operational efficiency.",
          "Healthcare Diagnostics ",
          "Healthcare Diagnostics - AI is revolutionizing the healthcare industry by enabling faster and more accurate diagnostics. ",
          "Healthcare Diagnostics - AI is revolutionizing the healthcare industry by enabling faster and more accurate diagnostics. - AI algorithms can analyze complex medical images like CT scans and MRI images to detect anomalies such as tumors, fractures, or diseases at a much earlier stage. This could significantly improve treatment outcomes and enhance patient care."
         ],
         "insidetextfont": {
          "color": "#FFFFFF",
          "size": 30
         },
         "labels": [
          "Chatbots",
          " Chatbots are AI",
          "based software designed to interact with humans in their natural languages.",
          " These chatbots are commonly used in industries for customer service, request<br>routing, or for information gathering tasks. They use natural language<br>processing (NLP) and machine learning algorithms to understand and respond to<br>human inputs, making them an effective tool for 24/7 customer support.",
          "Recommendation Systems",
          " Recommendation systems are a popular AI<br>application, transforming the way online<br>businesses engage with customers.",
          " They analyze a user's behavior, preferences, and interaction history to provide<br>personalized product or content suggestions. This technology is widely used in<br>sectors such as eCommerce, entertainment (Netflix's movie recommendations, for<br>example), and digital advertising.",
          "Autonomous Vehicles",
          " Autonomous vehicles leverage AI technology to<br>navigate and understand the environment without<br>human input.",
          " These vehicles use a combination of sensors, cameras, Lidar data, mapping<br>technology, and machine learning algorithms to drive safely and efficiently,<br>thereby potentially reducing human error and increasing the productivity of<br>transport and delivery services.",
          "Fraud Detection",
          " AI is playing a crucial role in detecting and<br>preventing fraud in various sectors, particularly<br>in the financial industry.",
          " By using machine learning algorithms and predictive analytics, AI systems can<br>identify suspicious activities, analyze transaction patterns, and raise real",
          "time alerts for potential fraud. This not only helps in reducing the risk of<br>fraud but also enhances operational efficiency.",
          "Healthcare Diagnostics",
          " AI is revolutionizing the healthcare industry by<br>enabling faster and more accurate diagnostics.",
          " AI algorithms can analyze complex medical images like CT scans and MRI images<br>to detect anomalies such as tumors, fractures, or diseases at a much earlier<br>stage. This could significantly improve treatment outcomes and enhance patient<br>care."
         ],
         "marker": {
          "colors": [
           "rgba(218, 0, 255, 1.0))",
           "rgba(233, 101, 255, 1.0))",
           "rgba(247, 204, 254, 1.0))",
           "rgba(255, 0, 246, 1.0))",
           "rgba(255, 101, 250, 1.0))",
           "rgba(254, 204, 253, 1.0))",
           "rgba(255, 0, 204, 1.0))",
           "rgba(255, 101, 224, 1.0))",
           "rgba(254, 204, 244, 1.0))",
           "rgba(255, 0, 161, 1.0))",
           "rgba(255, 101, 199, 1.0))",
           "rgba(254, 204, 236, 1.0))",
           "rgba(255, 0, 119, 1.0))",
           "rgba(255, 101, 173, 1.0))",
           "rgba(254, 204, 227, 1.0))",
           "rgba(255, 0, 76, 1.0))",
           "rgba(255, 101, 148, 1.0))",
           "rgba(254, 204, 219, 1.0))",
           "rgba(255, 0, 35, 1.0))",
           "rgba(255, 101, 123, 1.0))",
           "rgba(254, 204, 211, 1.0))",
           "rgba(255, 7, 0, 1.0))",
           "rgba(255, 106, 101, 1.0))",
           "rgba(254, 205, 204, 1.0))"
          ],
          "cornerradius": 20
         },
         "maxdepth": 2,
         "outsidetextfont": {
          "color": "#FF0000",
          "family": "Arial",
          "size": 15
         },
         "parents": [
          "",
          "Chatbots ",
          "Chatbots - Chatbots are AI",
          "Chatbots - Chatbots are AI-based software designed to interact with humans in their natural languages. ",
          "",
          "Recommendation Systems ",
          "Recommendation Systems - Recommendation systems are a popular AI application, transforming the way online businesses engage with customers. ",
          "",
          "Autonomous Vehicles ",
          "Autonomous Vehicles - Autonomous vehicles leverage AI technology to navigate and understand the environment without human input. ",
          "",
          "Fraud Detection ",
          "Fraud Detection - AI is playing a crucial role in detecting and preventing fraud in various sectors, particularly in the financial industry. ",
          "Fraud Detection - AI is playing a crucial role in detecting and preventing fraud in various sectors, particularly in the financial industry. - By using machine learning algorithms and predictive analytics, AI systems can identify suspicious activities, analyze transaction patterns, and raise real",
          "",
          "Healthcare Diagnostics ",
          "Healthcare Diagnostics - AI is revolutionizing the healthcare industry by enabling faster and more accurate diagnostics. "
         ],
         "tiling": {
          "packing": "squarify",
          "pad": 0.2
         },
         "type": "treemap"
        }
       ],
       "layout": {
        "height": 600,
        "margin": {
         "b": 25,
         "l": 25,
         "r": 25,
         "t": 50
        },
        "template": {
         "data": {
          "bar": [
           {
            "error_x": {
             "color": "#2a3f5f"
            },
            "error_y": {
             "color": "#2a3f5f"
            },
            "marker": {
             "line": {
              "color": "#E5ECF6",
              "width": 0.5
             },
             "pattern": {
              "fillmode": "overlay",
              "size": 10,
              "solidity": 0.2
             }
            },
            "type": "bar"
           }
          ],
          "barpolar": [
           {
            "marker": {
             "line": {
              "color": "#E5ECF6",
              "width": 0.5
             },
             "pattern": {
              "fillmode": "overlay",
              "size": 10,
              "solidity": 0.2
             }
            },
            "type": "barpolar"
           }
          ],
          "carpet": [
           {
            "aaxis": {
             "endlinecolor": "#2a3f5f",
             "gridcolor": "white",
             "linecolor": "white",
             "minorgridcolor": "white",
             "startlinecolor": "#2a3f5f"
            },
            "baxis": {
             "endlinecolor": "#2a3f5f",
             "gridcolor": "white",
             "linecolor": "white",
             "minorgridcolor": "white",
             "startlinecolor": "#2a3f5f"
            },
            "type": "carpet"
           }
          ],
          "choropleth": [
           {
            "colorbar": {
             "outlinewidth": 0,
             "ticks": ""
            },
            "type": "choropleth"
           }
          ],
          "contour": [
           {
            "colorbar": {
             "outlinewidth": 0,
             "ticks": ""
            },
            "colorscale": [
             [
              0,
              "#0d0887"
             ],
             [
              0.1111111111111111,
              "#46039f"
             ],
             [
              0.2222222222222222,
              "#7201a8"
             ],
             [
              0.3333333333333333,
              "#9c179e"
             ],
             [
              0.4444444444444444,
              "#bd3786"
             ],
             [
              0.5555555555555556,
              "#d8576b"
             ],
             [
              0.6666666666666666,
              "#ed7953"
             ],
             [
              0.7777777777777778,
              "#fb9f3a"
             ],
             [
              0.8888888888888888,
              "#fdca26"
             ],
             [
              1,
              "#f0f921"
             ]
            ],
            "type": "contour"
           }
          ],
          "contourcarpet": [
           {
            "colorbar": {
             "outlinewidth": 0,
             "ticks": ""
            },
            "type": "contourcarpet"
           }
          ],
          "heatmap": [
           {
            "colorbar": {
             "outlinewidth": 0,
             "ticks": ""
            },
            "colorscale": [
             [
              0,
              "#0d0887"
             ],
             [
              0.1111111111111111,
              "#46039f"
             ],
             [
              0.2222222222222222,
              "#7201a8"
             ],
             [
              0.3333333333333333,
              "#9c179e"
             ],
             [
              0.4444444444444444,
              "#bd3786"
             ],
             [
              0.5555555555555556,
              "#d8576b"
             ],
             [
              0.6666666666666666,
              "#ed7953"
             ],
             [
              0.7777777777777778,
              "#fb9f3a"
             ],
             [
              0.8888888888888888,
              "#fdca26"
             ],
             [
              1,
              "#f0f921"
             ]
            ],
            "type": "heatmap"
           }
          ],
          "heatmapgl": [
           {
            "colorbar": {
             "outlinewidth": 0,
             "ticks": ""
            },
            "colorscale": [
             [
              0,
              "#0d0887"
             ],
             [
              0.1111111111111111,
              "#46039f"
             ],
             [
              0.2222222222222222,
              "#7201a8"
             ],
             [
              0.3333333333333333,
              "#9c179e"
             ],
             [
              0.4444444444444444,
              "#bd3786"
             ],
             [
              0.5555555555555556,
              "#d8576b"
             ],
             [
              0.6666666666666666,
              "#ed7953"
             ],
             [
              0.7777777777777778,
              "#fb9f3a"
             ],
             [
              0.8888888888888888,
              "#fdca26"
             ],
             [
              1,
              "#f0f921"
             ]
            ],
            "type": "heatmapgl"
           }
          ],
          "histogram": [
           {
            "marker": {
             "pattern": {
              "fillmode": "overlay",
              "size": 10,
              "solidity": 0.2
             }
            },
            "type": "histogram"
           }
          ],
          "histogram2d": [
           {
            "colorbar": {
             "outlinewidth": 0,
             "ticks": ""
            },
            "colorscale": [
             [
              0,
              "#0d0887"
             ],
             [
              0.1111111111111111,
              "#46039f"
             ],
             [
              0.2222222222222222,
              "#7201a8"
             ],
             [
              0.3333333333333333,
              "#9c179e"
             ],
             [
              0.4444444444444444,
              "#bd3786"
             ],
             [
              0.5555555555555556,
              "#d8576b"
             ],
             [
              0.6666666666666666,
              "#ed7953"
             ],
             [
              0.7777777777777778,
              "#fb9f3a"
             ],
             [
              0.8888888888888888,
              "#fdca26"
             ],
             [
              1,
              "#f0f921"
             ]
            ],
            "type": "histogram2d"
           }
          ],
          "histogram2dcontour": [
           {
            "colorbar": {
             "outlinewidth": 0,
             "ticks": ""
            },
            "colorscale": [
             [
              0,
              "#0d0887"
             ],
             [
              0.1111111111111111,
              "#46039f"
             ],
             [
              0.2222222222222222,
              "#7201a8"
             ],
             [
              0.3333333333333333,
              "#9c179e"
             ],
             [
              0.4444444444444444,
              "#bd3786"
             ],
             [
              0.5555555555555556,
              "#d8576b"
             ],
             [
              0.6666666666666666,
              "#ed7953"
             ],
             [
              0.7777777777777778,
              "#fb9f3a"
             ],
             [
              0.8888888888888888,
              "#fdca26"
             ],
             [
              1,
              "#f0f921"
             ]
            ],
            "type": "histogram2dcontour"
           }
          ],
          "mesh3d": [
           {
            "colorbar": {
             "outlinewidth": 0,
             "ticks": ""
            },
            "type": "mesh3d"
           }
          ],
          "parcoords": [
           {
            "line": {
             "colorbar": {
              "outlinewidth": 0,
              "ticks": ""
             }
            },
            "type": "parcoords"
           }
          ],
          "pie": [
           {
            "automargin": true,
            "type": "pie"
           }
          ],
          "scatter": [
           {
            "fillpattern": {
             "fillmode": "overlay",
             "size": 10,
             "solidity": 0.2
            },
            "type": "scatter"
           }
          ],
          "scatter3d": [
           {
            "line": {
             "colorbar": {
              "outlinewidth": 0,
              "ticks": ""
             }
            },
            "marker": {
             "colorbar": {
              "outlinewidth": 0,
              "ticks": ""
             }
            },
            "type": "scatter3d"
           }
          ],
          "scattercarpet": [
           {
            "marker": {
             "colorbar": {
              "outlinewidth": 0,
              "ticks": ""
             }
            },
            "type": "scattercarpet"
           }
          ],
          "scattergeo": [
           {
            "marker": {
             "colorbar": {
              "outlinewidth": 0,
              "ticks": ""
             }
            },
            "type": "scattergeo"
           }
          ],
          "scattergl": [
           {
            "marker": {
             "colorbar": {
              "outlinewidth": 0,
              "ticks": ""
             }
            },
            "type": "scattergl"
           }
          ],
          "scattermapbox": [
           {
            "marker": {
             "colorbar": {
              "outlinewidth": 0,
              "ticks": ""
             }
            },
            "type": "scattermapbox"
           }
          ],
          "scatterpolar": [
           {
            "marker": {
             "colorbar": {
              "outlinewidth": 0,
              "ticks": ""
             }
            },
            "type": "scatterpolar"
           }
          ],
          "scatterpolargl": [
           {
            "marker": {
             "colorbar": {
              "outlinewidth": 0,
              "ticks": ""
             }
            },
            "type": "scatterpolargl"
           }
          ],
          "scatterternary": [
           {
            "marker": {
             "colorbar": {
              "outlinewidth": 0,
              "ticks": ""
             }
            },
            "type": "scatterternary"
           }
          ],
          "surface": [
           {
            "colorbar": {
             "outlinewidth": 0,
             "ticks": ""
            },
            "colorscale": [
             [
              0,
              "#0d0887"
             ],
             [
              0.1111111111111111,
              "#46039f"
             ],
             [
              0.2222222222222222,
              "#7201a8"
             ],
             [
              0.3333333333333333,
              "#9c179e"
             ],
             [
              0.4444444444444444,
              "#bd3786"
             ],
             [
              0.5555555555555556,
              "#d8576b"
             ],
             [
              0.6666666666666666,
              "#ed7953"
             ],
             [
              0.7777777777777778,
              "#fb9f3a"
             ],
             [
              0.8888888888888888,
              "#fdca26"
             ],
             [
              1,
              "#f0f921"
             ]
            ],
            "type": "surface"
           }
          ],
          "table": [
           {
            "cells": {
             "fill": {
              "color": "#EBF0F8"
             },
             "line": {
              "color": "white"
             }
            },
            "header": {
             "fill": {
              "color": "#C8D4E3"
             },
             "line": {
              "color": "white"
             }
            },
            "type": "table"
           }
          ]
         },
         "layout": {
          "annotationdefaults": {
           "arrowcolor": "#2a3f5f",
           "arrowhead": 0,
           "arrowwidth": 1
          },
          "autotypenumbers": "strict",
          "coloraxis": {
           "colorbar": {
            "outlinewidth": 0,
            "ticks": ""
           }
          },
          "colorscale": {
           "diverging": [
            [
             0,
             "#8e0152"
            ],
            [
             0.1,
             "#c51b7d"
            ],
            [
             0.2,
             "#de77ae"
            ],
            [
             0.3,
             "#f1b6da"
            ],
            [
             0.4,
             "#fde0ef"
            ],
            [
             0.5,
             "#f7f7f7"
            ],
            [
             0.6,
             "#e6f5d0"
            ],
            [
             0.7,
             "#b8e186"
            ],
            [
             0.8,
             "#7fbc41"
            ],
            [
             0.9,
             "#4d9221"
            ],
            [
             1,
             "#276419"
            ]
           ],
           "sequential": [
            [
             0,
             "#0d0887"
            ],
            [
             0.1111111111111111,
             "#46039f"
            ],
            [
             0.2222222222222222,
             "#7201a8"
            ],
            [
             0.3333333333333333,
             "#9c179e"
            ],
            [
             0.4444444444444444,
             "#bd3786"
            ],
            [
             0.5555555555555556,
             "#d8576b"
            ],
            [
             0.6666666666666666,
             "#ed7953"
            ],
            [
             0.7777777777777778,
             "#fb9f3a"
            ],
            [
             0.8888888888888888,
             "#fdca26"
            ],
            [
             1,
             "#f0f921"
            ]
           ],
           "sequentialminus": [
            [
             0,
             "#0d0887"
            ],
            [
             0.1111111111111111,
             "#46039f"
            ],
            [
             0.2222222222222222,
             "#7201a8"
            ],
            [
             0.3333333333333333,
             "#9c179e"
            ],
            [
             0.4444444444444444,
             "#bd3786"
            ],
            [
             0.5555555555555556,
             "#d8576b"
            ],
            [
             0.6666666666666666,
             "#ed7953"
            ],
            [
             0.7777777777777778,
             "#fb9f3a"
            ],
            [
             0.8888888888888888,
             "#fdca26"
            ],
            [
             1,
             "#f0f921"
            ]
           ]
          },
          "colorway": [
           "#636efa",
           "#EF553B",
           "#00cc96",
           "#ab63fa",
           "#FFA15A",
           "#19d3f3",
           "#FF6692",
           "#B6E880",
           "#FF97FF",
           "#FECB52"
          ],
          "font": {
           "color": "#2a3f5f"
          },
          "geo": {
           "bgcolor": "white",
           "lakecolor": "white",
           "landcolor": "#E5ECF6",
           "showlakes": true,
           "showland": true,
           "subunitcolor": "white"
          },
          "hoverlabel": {
           "align": "left"
          },
          "hovermode": "closest",
          "mapbox": {
           "style": "light"
          },
          "paper_bgcolor": "white",
          "plot_bgcolor": "#E5ECF6",
          "polar": {
           "angularaxis": {
            "gridcolor": "white",
            "linecolor": "white",
            "ticks": ""
           },
           "bgcolor": "#E5ECF6",
           "radialaxis": {
            "gridcolor": "white",
            "linecolor": "white",
            "ticks": ""
           }
          },
          "scene": {
           "xaxis": {
            "backgroundcolor": "#E5ECF6",
            "gridcolor": "white",
            "gridwidth": 2,
            "linecolor": "white",
            "showbackground": true,
            "ticks": "",
            "zerolinecolor": "white"
           },
           "yaxis": {
            "backgroundcolor": "#E5ECF6",
            "gridcolor": "white",
            "gridwidth": 2,
            "linecolor": "white",
            "showbackground": true,
            "ticks": "",
            "zerolinecolor": "white"
           },
           "zaxis": {
            "backgroundcolor": "#E5ECF6",
            "gridcolor": "white",
            "gridwidth": 2,
            "linecolor": "white",
            "showbackground": true,
            "ticks": "",
            "zerolinecolor": "white"
           }
          },
          "shapedefaults": {
           "line": {
            "color": "#2a3f5f"
           }
          },
          "ternary": {
           "aaxis": {
            "gridcolor": "white",
            "linecolor": "white",
            "ticks": ""
           },
           "baxis": {
            "gridcolor": "white",
            "linecolor": "white",
            "ticks": ""
           },
           "bgcolor": "#E5ECF6",
           "caxis": {
            "gridcolor": "white",
            "linecolor": "white",
            "ticks": ""
           }
          },
          "title": {
           "x": 0.05
          },
          "xaxis": {
           "automargin": true,
           "gridcolor": "white",
           "linecolor": "white",
           "ticks": "",
           "title": {
            "standoff": 15
           },
           "zerolinecolor": "white",
           "zerolinewidth": 2
          },
          "yaxis": {
           "automargin": true,
           "gridcolor": "white",
           "linecolor": "white",
           "ticks": "",
           "title": {
            "standoff": 15
           },
           "zerolinecolor": "white",
           "zerolinewidth": 2
          }
         }
        },
        "title": {
         "font": {
          "color": "RebeccaPurple",
          "family": "Courier New, monospace",
          "size": 20
         },
         "text": "<b>人工智能在不同行业的应用",
         "x": 0.5,
         "xanchor": "center"
        },
        "width": 600
       }
      }
     },
     "metadata": {},
     "output_type": "display_data"
    }
   ],
   "source": [
    "from jupyter_dash import JupyterDash\n",
    "import dash_core_components as dcc\n",
    "import dash_html_components as html\n",
    "from dash.dependencies import Input, Output, State\n",
    "import plotly.graph_objects as go\n",
    "import pandas as pd\n",
    "import json\n",
    "import textwrap\n",
    "import numpy as np\n",
    "import plotly.colors as colors\n",
    "import matplotlib.pyplot as plt\n",
    "import random\n",
    "import colorsys\n",
    "\n",
    "# 定义颜色刻度，根据 level 的最小值和最大值生成渐变色\n",
    "color_scale = colors.sequential.Blues\n",
    "\n",
    "# 生成模拟数据\n",
    "\n",
    "\n",
    "df = pd.DataFrame(input_list)\n",
    "\n",
    "# df[\"labels\"] = df[\"labels\"].apply(lambda x: auto_wrap_text(x, max_width=20))  # 20 是你想要的最大行长度\n",
    "df[\"labels\"] = df.apply(apply_wrap, axis=1)\n",
    "\n",
    "# 根据 level 的值定义三个蓝色\n",
    "# color_scale = colors.sequential.Blues\n",
    "# 定义颜色刻度，根据 level 的最小值和最大值生成渐变色\n",
    "# color_scale = [[0, 'rgb(66, 135, 245)'], [0.5, 'rgb(135, 183, 245)'], [1, 'rgb(183, 215, 245)']] # 蓝色\n",
    "# color_scale = [[0, 'rgb(66, 135, 245)'], [0.25, 'rgb(135, 183, 245)'], [0.5, 'rgb(183, 215, 245)'], [0.75, 'rgb(215, 231, 245)'], [1, 'rgb(245, 245, 245)']]\n",
    "# # 计算每个标签的字数\n",
    "# label_lengths = df['labels'].apply(len)\n",
    "\n",
    "\n",
    "\n",
    "# 选择一个基本颜色（这里是蓝绿色，对应HSL色调的180度）\n",
    "base_hue = random.random()  # 在Python的colorsys模块中，色调的范围是0-1，所以我们需要把角度除以360\n",
    "# random.seed(0)\n",
    "\n",
    "\n",
    "# 生成色系相似的8个颜色\n",
    "base_colors = []\n",
    "for i in range(8):\n",
    "    # 在色调上加上一个小的偏移（在这里是i*10度），并确保结果在0-1范围内\n",
    "    hue = (base_hue + i*10/360) % 1\n",
    "    # 使用饱和度1和亮度0.5生成颜色（这将生成一个鲜艳的颜色）\n",
    "    color = colorsys.hls_to_rgb(hue, 0.5, 1)\n",
    "    # 将颜色从RGB空间转换到十六进制颜色代码\n",
    "    base_colors.append(\"#\"+''.join([f\"{int(val*255):02x}\" for val in color]))\n",
    "    \n",
    "\n",
    "# 转换十六进制颜色代码为RGB颜色值（范围是0-1）\n",
    "base_colors_rgb = [[int(color[i:i+2], 16) / 255 for i in range(1, 6, 2)] for color in base_colors]\n",
    "\n",
    "# 节点和层级的关系，假设我们有8个段落，每个段落有3个层级\n",
    "nodes = [\"P{}-L{}\".format(p, l) for p in range(8) for l in range(3)]\n",
    "levels = [l for p in range(8) for l in range(3)]\n",
    "\n",
    "# 根据节点的层级和对应的基础颜色来生成颜色\n",
    "node_colors = []\n",
    "for i in range(8):\n",
    "    for j in range(3):\n",
    "        # 随着层级增加，将颜色的亮度增加\n",
    "        h, l, s = colorsys.rgb_to_hls(*base_colors_rgb[i])\n",
    "        color = colorsys.hls_to_rgb(h, min(1, l + 0.2*j), s)  # 每次增加20%的亮度，最大为1\n",
    "        node_colors.append(\"rgba\"+str(tuple([int(255*val) for val in color] + [1.0])) + \")\")\n",
    "\n",
    "\n",
    "\n",
    "\n",
    "fig = go.Figure(go.Treemap(\n",
    "    ids=df['ids'],\n",
    "    labels=df['labels'],\n",
    "    parents=df['parents'],\n",
    "    # values=df['level'],\n",
    "    # values=[10]*len(df['level']),\n",
    "    maxdepth=2,\n",
    "    # text=df['labels'],\n",
    "    insidetextfont=dict(size=30, color='#FFFFFF'),\n",
    "    outsidetextfont=dict(size=15, color='#FF0000', family='Arial'),\n",
    "    # hoverlabel=dict(\n",
    "    #     font=dict(\n",
    "    #         color='#000000',\n",
    "    #         size=8,\n",
    "    #         family='Arial'\n",
    "    #     ),\n",
    "    #     bgcolor='lightyellow'\n",
    "    # ),\n",
    "    # pathbar_textfont_size=15,\n",
    "    # textfont=dict(size=20, exponent=-1) \n",
    "    \n",
    "    # marker_colorscale = 'Blues',  # 使用 'Blues' 颜色方案\n",
    "    marker_colors=node_colors,  # 使用标签长度作为权重\n",
    "    # marker_colorscale=color_scale,  # 使用自定义的颜色刻度\n",
    "    \n",
    "    \n",
    "    # tiling = dict(packing='slice-dice')  # 使用 'slice-dice' 布局算法\n",
    "    tiling=dict(\n",
    "    packing='squarify',  # Set packing algorithm to 'squarify'\n",
    "    pad=0.2\n",
    "    )\n",
    "))\n",
    "\n",
    "fig.update_layout(\n",
    "    # title=\"人工智能在不同行业的应用\",  # 添加标题\n",
    "    title={\n",
    "    'text': \"<b>人工智能在不同行业的应用\",\n",
    "    'x': 0.5,  # 将标题的 x 位置设置为 0.5，即图形的中心\n",
    "    'xanchor': 'center',  # 将标题的 x 锚点设置为 'center'，即标题的中心\n",
    "    # 'y' : 0.96 , # 高度调整\n",
    "    },\n",
    "    title_font=dict(\n",
    "    family=\"Courier New, monospace\",  # 设置字体\n",
    "    size=20,  # 设置字体大小\n",
    "    color=\"RebeccaPurple\"  # 设置字体颜色\n",
    "    ),\n",
    "    # uniformtext=dict(minsize=15, mode='hide'), \n",
    "    margin = dict(t=50, l=25, r=25, b=25),\n",
    "    width=600,\n",
    "    height=600,\n",
    "    # plot_bgcolor=\"#0000FF\",  # 设置画布的背景颜色\n",
    "    # autosize=True,\n",
    ")\n",
    "\n",
    "# fig.update_layout(\n",
    "#     # \n",
    "# )\n",
    "\n",
    "fig.update_traces(marker=dict(cornerradius=20)) # 圆角\n",
    "fig.show()\n",
    "\n",
    "\n",
    "# app = JupyterDash(__name__)\n",
    "# 召回函数\n",
    "# app.layout = html.Div([\n",
    "#     dcc.Graph(\n",
    "#         id='my-graph',\n",
    "#         figure=fig\n",
    "#     ),\n",
    "#     # html.Pre(id='click-data', style={'padding': '10px'}),\n",
    "#     # html.Div(id='text-storage', style={'display': 'none'}),\n",
    "#     # html.Div(id='node-clicked', style={'display': 'none'})\n",
    "# ])\n",
    "\n",
    "# @app.callback(\n",
    "#     Output('my-graph', 'figure'),\n",
    "#     Output('text-storage', 'children'),\n",
    "#     Output('node-clicked', 'children'),\n",
    "#     Input('my-graph', 'clickData'),\n",
    "#     State('my-graph', 'figure'),\n",
    "#     State('text-storage', 'children'),\n",
    "#     State('node-clicked', 'children')\n",
    "# )\n",
    "\n",
    "# def update_figure(clickData, fig, stored_text, clicked_node):\n",
    "#     if clickData:\n",
    "#         point_number = clickData['points'][0]['pointNumber']\n",
    "#         if stored_text is None:\n",
    "#             stored_text = json.dumps(fig['data'][0]['text'])\n",
    "#         if clicked_node is None or clicked_node != point_number:\n",
    "#             fig['data'][0]['text'] = json.loads(stored_text)\n",
    "#             fig['data'][0]['insidetextfont']['size'] = 30  # 将字体大小设置为30\n",
    "#             clicked_node = point_number\n",
    "#         else:\n",
    "#             fig['data'][0]['text'] = json.loads(stored_text)\n",
    "#             fig['data'][0]['insidetextfont']['size'] = 20  # 将字体大小重设为20\n",
    "#             clicked_node = None\n",
    "#     else:\n",
    "#         if stored_text is not None:\n",
    "#             fig['data'][0]['text'] = json.loads(stored_text)\n",
    "#         fig['data'][0]['insidetextfont']['size'] = 20  # 将字体大小重设为20\n",
    "#         clicked_node = None\n",
    "\n",
    "#     return fig, stored_text, clicked_node\n",
    "\n",
    "\n",
    "# app.run_server(mode='inline', port=8054)\n"
   ]
  },
  {
   "cell_type": "code",
   "execution_count": 7,
   "metadata": {},
   "outputs": [
    {
     "data": {
      "text/plain": [
       "24"
      ]
     },
     "execution_count": 7,
     "metadata": {},
     "output_type": "execute_result"
    }
   ],
   "source": [
    "len(node_colors)"
   ]
  },
  {
   "cell_type": "code",
   "execution_count": 30,
   "metadata": {},
   "outputs": [
    {
     "data": {
      "text/plain": [
       "(0.5, 0.7579544029403025)"
      ]
     },
     "execution_count": 30,
     "metadata": {},
     "output_type": "execute_result"
    }
   ],
   "source": [
    "base_hue = 180/360  # 在Python的colorsys模块中，色调的范围是0-1，所以我们需要把角度除以360\n",
    "base_hue, random.random()\n",
    "# get a random 0-1 number\n",
    "\n",
    "\n",
    "\n"
   ]
  },
  {
   "cell_type": "code",
   "execution_count": 164,
   "metadata": {},
   "outputs": [
    {
     "data": {
      "text/html": [
       "<div>\n",
       "<style scoped>\n",
       "    .dataframe tbody tr th:only-of-type {\n",
       "        vertical-align: middle;\n",
       "    }\n",
       "\n",
       "    .dataframe tbody tr th {\n",
       "        vertical-align: top;\n",
       "    }\n",
       "\n",
       "    .dataframe thead th {\n",
       "        text-align: right;\n",
       "    }\n",
       "</style>\n",
       "<table border=\"1\" class=\"dataframe\">\n",
       "  <thead>\n",
       "    <tr style=\"text-align: right;\">\n",
       "      <th></th>\n",
       "      <th>ids</th>\n",
       "      <th>labels</th>\n",
       "      <th>parents</th>\n",
       "      <th>info</th>\n",
       "      <th>level</th>\n",
       "    </tr>\n",
       "  </thead>\n",
       "  <tbody>\n",
       "    <tr>\n",
       "      <th>0</th>\n",
       "      <td>1.虚拟现实VR</td>\n",
       "      <td>1.虚拟现实VR</td>\n",
       "      <td></td>\n",
       "      <td>1.虚拟现实VR</td>\n",
       "      <td>1</td>\n",
       "    </tr>\n",
       "    <tr>\n",
       "      <th>1</th>\n",
       "      <td>1.虚拟现实VR-虚拟现实是一种通过计算机生成的模拟环境，使用户能够与虚拟世界进行互动和沉浸式体验</td>\n",
       "      <td>虚拟现实是一种通过计算机生成的模拟环境，使用户能够与虚拟世界进行互动和沉浸式体验</td>\n",
       "      <td>1.虚拟现实VR</td>\n",
       "      <td>虚拟现实是一种通过计算机生成的模拟环境，使用户能够与虚拟世界进行互动和沉浸式体验</td>\n",
       "      <td>2</td>\n",
       "    </tr>\n",
       "    <tr>\n",
       "      <th>2</th>\n",
       "      <td>1.虚拟现实VR-虚拟现实是一种通过计算机生成的模拟环境，使用户能够与虚拟世界进行互动和沉浸...</td>\n",
       "      <td>虚拟现实（VR）是一种通过计算机技术创造的模拟环境，让用户能够身临其境地感受和探索虚拟世界。...</td>\n",
       "      <td>1.虚拟现实VR-虚拟现实是一种通过计算机生成的模拟环境，使用户能够与虚拟世界进行互动和沉浸式体验</td>\n",
       "      <td>虚拟现实（VR）是一种通过计算机技术创造的模拟环境，让用户能够身临其境地感受和探索虚拟世界。...</td>\n",
       "      <td>3</td>\n",
       "    </tr>\n",
       "    <tr>\n",
       "      <th>3</th>\n",
       "      <td>2.区块链技术</td>\n",
       "      <td>2.区块链技术</td>\n",
       "      <td></td>\n",
       "      <td>2.区块链技术</td>\n",
       "      <td>1</td>\n",
       "    </tr>\n",
       "    <tr>\n",
       "      <th>4</th>\n",
       "      <td>2.区块链技术-区块链是一种分布式的账本技术，通过去中心化的方式实现信息的安全存储和交易的可追溯性</td>\n",
       "      <td>区块链是一种分布式的账本技术，通过去中心化的方式实现信息的安全存储和交易的可追溯性</td>\n",
       "      <td>2.区块链技术</td>\n",
       "      <td>区块链是一种分布式的账本技术，通过去中心化的方式实现信息的安全存储和交易的可追溯性</td>\n",
       "      <td>2</td>\n",
       "    </tr>\n",
       "    <tr>\n",
       "      <th>5</th>\n",
       "      <td>2.区块链技术-区块链是一种分布式的账本技术，通过去中心化的方式实现信息的安全存储和交易的可...</td>\n",
       "      <td>区块链技术是一种基于密码学原理的分布式账本技术，它通过去中心化的方式将交易信息记录在一个不断...</td>\n",
       "      <td>2.区块链技术-区块链是一种分布式的账本技术，通过去中心化的方式实现信息的安全存储和交易的可追溯性</td>\n",
       "      <td>区块链技术是一种基于密码学原理的分布式账本技术，它通过去中心化的方式将交易信息记录在一个不断...</td>\n",
       "      <td>3</td>\n",
       "    </tr>\n",
       "    <tr>\n",
       "      <th>6</th>\n",
       "      <td>3.物联网（IoT）</td>\n",
       "      <td>3.物联网（IoT）</td>\n",
       "      <td></td>\n",
       "      <td>3.物联网（IoT）</td>\n",
       "      <td>1</td>\n",
       "    </tr>\n",
       "    <tr>\n",
       "      <th>7</th>\n",
       "      <td>3.物联网（IoT）-物联网是将各种设备、传感器和物体连接到互联网，实现智能化和自动化的网络系统。</td>\n",
       "      <td>物联网是将各种设备、传感器和物体连接到互联网，实现智能化和自动化的网络系统。</td>\n",
       "      <td>3.物联网（IoT）</td>\n",
       "      <td>物联网是将各种设备、传感器和物体连接到互联网，实现智能化和自动化的网络系统。</td>\n",
       "      <td>2</td>\n",
       "    </tr>\n",
       "    <tr>\n",
       "      <th>8</th>\n",
       "      <td>3.物联网（IoT）-物联网是将各种设备、传感器和物体连接到互联网，实现智能化和自动化的网络...</td>\n",
       "      <td>物联网（Internet of Things，IoT）是一种将传感器、设备和物体连接到互联网...</td>\n",
       "      <td>3.物联网（IoT）-物联网是将各种设备、传感器和物体连接到互联网，实现智能化和自动化的网络系统。</td>\n",
       "      <td>物联网（Internet of Things，IoT）是一种将传感器、设备和物体连接到互联网...</td>\n",
       "      <td>3</td>\n",
       "    </tr>\n",
       "    <tr>\n",
       "      <th>9</th>\n",
       "      <td>4.自动驾驶</td>\n",
       "      <td>4.自动驾驶</td>\n",
       "      <td></td>\n",
       "      <td>4.自动驾驶</td>\n",
       "      <td>1</td>\n",
       "    </tr>\n",
       "    <tr>\n",
       "      <th>10</th>\n",
       "      <td>4.自动驾驶 - 自动驾驶是一种通过人工智能技术驾驶车辆的方法，使车辆能够在没有人工操作的情...</td>\n",
       "      <td>自动驾驶是一种通过人工智能技术驾驶车辆的方法，使车辆能够在没有人工操作的情况下自行导航</td>\n",
       "      <td>4.自动驾驶</td>\n",
       "      <td>自动驾驶是一种通过人工智能技术驾驶车辆的方法，使车辆能够在没有人工操作的情况下自行导航</td>\n",
       "      <td>2</td>\n",
       "    </tr>\n",
       "    <tr>\n",
       "      <th>11</th>\n",
       "      <td>4.自动驾驶 - 自动驾驶是一种通过人工智能技术驾驶车辆的方法，使车辆能够在没有人工操作的情...</td>\n",
       "      <td>自动驾驶技术利用深度学习、计算机视觉和传感器融合等人工智能技术，让汽车能够理解和适应复杂的...</td>\n",
       "      <td>4.自动驾驶 - 自动驾驶是一种通过人工智能技术驾驶车辆的方法，使车辆能够在没有人工操作的情...</td>\n",
       "      <td>自动驾驶技术利用深度学习、计算机视觉和传感器融合等人工智能技术，让汽车能够理解和适应复杂的...</td>\n",
       "      <td>3</td>\n",
       "    </tr>\n",
       "    <tr>\n",
       "      <th>12</th>\n",
       "      <td>5.语音助手</td>\n",
       "      <td>5.语音助手</td>\n",
       "      <td></td>\n",
       "      <td>5.语音助手</td>\n",
       "      <td>1</td>\n",
       "    </tr>\n",
       "    <tr>\n",
       "      <th>13</th>\n",
       "      <td>5.语音助手 - 语音助手是一种基于人工智能的应用，可以理解和执行用户的语音指令</td>\n",
       "      <td>语音助手是一种基于人工智能的应用，可以理解和执行用户的语音指令</td>\n",
       "      <td>5.语音助手</td>\n",
       "      <td>语音助手是一种基于人工智能的应用，可以理解和执行用户的语音指令</td>\n",
       "      <td>2</td>\n",
       "    </tr>\n",
       "    <tr>\n",
       "      <th>14</th>\n",
       "      <td>5.语音助手 - 语音助手是一种基于人工智能的应用，可以理解和执行用户的语音指令 - 语音助...</td>\n",
       "      <td>语音助手，如 Siri、Alexa 和 Google Assistant，使用自然语言处理...</td>\n",
       "      <td>5.语音助手 - 语音助手是一种基于人工智能的应用，可以理解和执行用户的语音指令</td>\n",
       "      <td>语音助手，如 Siri、Alexa 和 Google Assistant，使用自然语言处理...</td>\n",
       "      <td>3</td>\n",
       "    </tr>\n",
       "    <tr>\n",
       "      <th>15</th>\n",
       "      <td>6.推荐系统</td>\n",
       "      <td>6.推荐系统</td>\n",
       "      <td></td>\n",
       "      <td>6.推荐系统</td>\n",
       "      <td>1</td>\n",
       "    </tr>\n",
       "    <tr>\n",
       "      <th>16</th>\n",
       "      <td>6.推荐系统 - 推荐系统是一种人工智能应用，可以根据用户的历史行为和偏好提供个性化的内容推荐</td>\n",
       "      <td>推荐系统是一种人工智能应用，可以根据用户的历史行为和偏好提供个性化的内容推荐</td>\n",
       "      <td>6.推荐系统</td>\n",
       "      <td>推荐系统是一种人工智能应用，可以根据用户的历史行为和偏好提供个性化的内容推荐</td>\n",
       "      <td>2</td>\n",
       "    </tr>\n",
       "    <tr>\n",
       "      <th>17</th>\n",
       "      <td>6.推荐系统 - 推荐系统是一种人工智能应用，可以根据用户的历史行为和偏好提供个性化的内容推...</td>\n",
       "      <td>推荐系统广泛应用于电子商务、社交媒体和在线视频平台等领域。通过分析用户的历史行为和偏好，推...</td>\n",
       "      <td>6.推荐系统 - 推荐系统是一种人工智能应用，可以根据用户的历史行为和偏好提供个性化的内容推荐</td>\n",
       "      <td>推荐系统广泛应用于电子商务、社交媒体和在线视频平台等领域。通过分析用户的历史行为和偏好，推...</td>\n",
       "      <td>3</td>\n",
       "    </tr>\n",
       "    <tr>\n",
       "      <th>18</th>\n",
       "      <td>7.图像识别</td>\n",
       "      <td>7.图像识别</td>\n",
       "      <td></td>\n",
       "      <td>7.图像识别</td>\n",
       "      <td>1</td>\n",
       "    </tr>\n",
       "    <tr>\n",
       "      <th>19</th>\n",
       "      <td>7.图像识别 - 图像识别是一种人工智能技术，可以使计算机理解和识别图像中的内容</td>\n",
       "      <td>图像识别是一种人工智能技术，可以使计算机理解和识别图像中的内容</td>\n",
       "      <td>7.图像识别</td>\n",
       "      <td>图像识别是一种人工智能技术，可以使计算机理解和识别图像中的内容</td>\n",
       "      <td>2</td>\n",
       "    </tr>\n",
       "    <tr>\n",
       "      <th>20</th>\n",
       "      <td>7.图像识别 - 图像识别是一种人工智能技术，可以使计算机理解和识别图像中的内容 - 图像识...</td>\n",
       "      <td>图像识别技术利用深度学习和计算机视觉技术，使计算机能够识别图像中的人脸、物体、文字等内容。...</td>\n",
       "      <td>7.图像识别 - 图像识别是一种人工智能技术，可以使计算机理解和识别图像中的内容</td>\n",
       "      <td>图像识别技术利用深度学习和计算机视觉技术，使计算机能够识别图像中的人脸、物体、文字等内容。...</td>\n",
       "      <td>3</td>\n",
       "    </tr>\n",
       "    <tr>\n",
       "      <th>21</th>\n",
       "      <td>8.机器翻译</td>\n",
       "      <td>8.机器翻译</td>\n",
       "      <td></td>\n",
       "      <td>8.机器翻译</td>\n",
       "      <td>1</td>\n",
       "    </tr>\n",
       "    <tr>\n",
       "      <th>22</th>\n",
       "      <td>8.机器翻译 - 机器翻译是一种人工智能应用，可以自动将一种语言翻译成另一种语言</td>\n",
       "      <td>机器翻译是一种人工智能应用，可以自动将一种语言翻译成另一种语言</td>\n",
       "      <td>8.机器翻译</td>\n",
       "      <td>机器翻译是一种人工智能应用，可以自动将一种语言翻译成另一种语言</td>\n",
       "      <td>2</td>\n",
       "    </tr>\n",
       "    <tr>\n",
       "      <th>23</th>\n",
       "      <td>8.机器翻译 - 机器翻译是一种人工智能应用，可以自动将一种语言翻译成另一种语言 - 机器翻...</td>\n",
       "      <td>机器翻译技术，如 Google Translate，利用深度学习和自然语言处理技术，理解和...</td>\n",
       "      <td>8.机器翻译 - 机器翻译是一种人工智能应用，可以自动将一种语言翻译成另一种语言</td>\n",
       "      <td>机器翻译技术，如 Google Translate，利用深度学习和自然语言处理技术，理解和...</td>\n",
       "      <td>3</td>\n",
       "    </tr>\n",
       "  </tbody>\n",
       "</table>\n",
       "</div>"
      ],
      "text/plain": [
       "                                                  ids   \n",
       "0                                            1.虚拟现实VR  \\\n",
       "1   1.虚拟现实VR-虚拟现实是一种通过计算机生成的模拟环境，使用户能够与虚拟世界进行互动和沉浸式体验   \n",
       "2   1.虚拟现实VR-虚拟现实是一种通过计算机生成的模拟环境，使用户能够与虚拟世界进行互动和沉浸...   \n",
       "3                                             2.区块链技术   \n",
       "4   2.区块链技术-区块链是一种分布式的账本技术，通过去中心化的方式实现信息的安全存储和交易的可追溯性   \n",
       "5   2.区块链技术-区块链是一种分布式的账本技术，通过去中心化的方式实现信息的安全存储和交易的可...   \n",
       "6                                          3.物联网（IoT）   \n",
       "7   3.物联网（IoT）-物联网是将各种设备、传感器和物体连接到互联网，实现智能化和自动化的网络系统。   \n",
       "8   3.物联网（IoT）-物联网是将各种设备、传感器和物体连接到互联网，实现智能化和自动化的网络...   \n",
       "9                                             4.自动驾驶    \n",
       "10  4.自动驾驶 - 自动驾驶是一种通过人工智能技术驾驶车辆的方法，使车辆能够在没有人工操作的情...   \n",
       "11  4.自动驾驶 - 自动驾驶是一种通过人工智能技术驾驶车辆的方法，使车辆能够在没有人工操作的情...   \n",
       "12                                            5.语音助手    \n",
       "13          5.语音助手 - 语音助手是一种基于人工智能的应用，可以理解和执行用户的语音指令    \n",
       "14  5.语音助手 - 语音助手是一种基于人工智能的应用，可以理解和执行用户的语音指令 - 语音助...   \n",
       "15                                            6.推荐系统    \n",
       "16   6.推荐系统 - 推荐系统是一种人工智能应用，可以根据用户的历史行为和偏好提供个性化的内容推荐    \n",
       "17  6.推荐系统 - 推荐系统是一种人工智能应用，可以根据用户的历史行为和偏好提供个性化的内容推...   \n",
       "18                                            7.图像识别    \n",
       "19          7.图像识别 - 图像识别是一种人工智能技术，可以使计算机理解和识别图像中的内容    \n",
       "20  7.图像识别 - 图像识别是一种人工智能技术，可以使计算机理解和识别图像中的内容 - 图像识...   \n",
       "21                                            8.机器翻译    \n",
       "22          8.机器翻译 - 机器翻译是一种人工智能应用，可以自动将一种语言翻译成另一种语言    \n",
       "23  8.机器翻译 - 机器翻译是一种人工智能应用，可以自动将一种语言翻译成另一种语言 - 机器翻...   \n",
       "\n",
       "                                               labels   \n",
       "0                                            1.虚拟现实VR  \\\n",
       "1            虚拟现实是一种通过计算机生成的模拟环境，使用户能够与虚拟世界进行互动和沉浸式体验   \n",
       "2   虚拟现实（VR）是一种通过计算机技术创造的模拟环境，让用户能够身临其境地感受和探索虚拟世界。...   \n",
       "3                                             2.区块链技术   \n",
       "4           区块链是一种分布式的账本技术，通过去中心化的方式实现信息的安全存储和交易的可追溯性   \n",
       "5   区块链技术是一种基于密码学原理的分布式账本技术，它通过去中心化的方式将交易信息记录在一个不断...   \n",
       "6                                          3.物联网（IoT）   \n",
       "7              物联网是将各种设备、传感器和物体连接到互联网，实现智能化和自动化的网络系统。   \n",
       "8   物联网（Internet of Things，IoT）是一种将传感器、设备和物体连接到互联网...   \n",
       "9                                             4.自动驾驶    \n",
       "10       自动驾驶是一种通过人工智能技术驾驶车辆的方法，使车辆能够在没有人工操作的情况下自行导航    \n",
       "11   自动驾驶技术利用深度学习、计算机视觉和传感器融合等人工智能技术，让汽车能够理解和适应复杂的...   \n",
       "12                                            5.语音助手    \n",
       "13                   语音助手是一种基于人工智能的应用，可以理解和执行用户的语音指令    \n",
       "14   语音助手，如 Siri、Alexa 和 Google Assistant，使用自然语言处理...   \n",
       "15                                            6.推荐系统    \n",
       "16            推荐系统是一种人工智能应用，可以根据用户的历史行为和偏好提供个性化的内容推荐    \n",
       "17   推荐系统广泛应用于电子商务、社交媒体和在线视频平台等领域。通过分析用户的历史行为和偏好，推...   \n",
       "18                                            7.图像识别    \n",
       "19                   图像识别是一种人工智能技术，可以使计算机理解和识别图像中的内容    \n",
       "20   图像识别技术利用深度学习和计算机视觉技术，使计算机能够识别图像中的人脸、物体、文字等内容。...   \n",
       "21                                            8.机器翻译    \n",
       "22                   机器翻译是一种人工智能应用，可以自动将一种语言翻译成另一种语言    \n",
       "23   机器翻译技术，如 Google Translate，利用深度学习和自然语言处理技术，理解和...   \n",
       "\n",
       "                                              parents   \n",
       "0                                                      \\\n",
       "1                                            1.虚拟现实VR   \n",
       "2   1.虚拟现实VR-虚拟现实是一种通过计算机生成的模拟环境，使用户能够与虚拟世界进行互动和沉浸式体验   \n",
       "3                                                       \n",
       "4                                             2.区块链技术   \n",
       "5   2.区块链技术-区块链是一种分布式的账本技术，通过去中心化的方式实现信息的安全存储和交易的可追溯性   \n",
       "6                                                       \n",
       "7                                          3.物联网（IoT）   \n",
       "8   3.物联网（IoT）-物联网是将各种设备、传感器和物体连接到互联网，实现智能化和自动化的网络系统。   \n",
       "9                                                       \n",
       "10                                            4.自动驾驶    \n",
       "11  4.自动驾驶 - 自动驾驶是一种通过人工智能技术驾驶车辆的方法，使车辆能够在没有人工操作的情...   \n",
       "12                                                      \n",
       "13                                            5.语音助手    \n",
       "14          5.语音助手 - 语音助手是一种基于人工智能的应用，可以理解和执行用户的语音指令    \n",
       "15                                                      \n",
       "16                                            6.推荐系统    \n",
       "17   6.推荐系统 - 推荐系统是一种人工智能应用，可以根据用户的历史行为和偏好提供个性化的内容推荐    \n",
       "18                                                      \n",
       "19                                            7.图像识别    \n",
       "20          7.图像识别 - 图像识别是一种人工智能技术，可以使计算机理解和识别图像中的内容    \n",
       "21                                                      \n",
       "22                                            8.机器翻译    \n",
       "23          8.机器翻译 - 机器翻译是一种人工智能应用，可以自动将一种语言翻译成另一种语言    \n",
       "\n",
       "                                                 info  level  \n",
       "0                                            1.虚拟现实VR      1  \n",
       "1            虚拟现实是一种通过计算机生成的模拟环境，使用户能够与虚拟世界进行互动和沉浸式体验      2  \n",
       "2   虚拟现实（VR）是一种通过计算机技术创造的模拟环境，让用户能够身临其境地感受和探索虚拟世界。...      3  \n",
       "3                                             2.区块链技术      1  \n",
       "4           区块链是一种分布式的账本技术，通过去中心化的方式实现信息的安全存储和交易的可追溯性      2  \n",
       "5   区块链技术是一种基于密码学原理的分布式账本技术，它通过去中心化的方式将交易信息记录在一个不断...      3  \n",
       "6                                          3.物联网（IoT）      1  \n",
       "7              物联网是将各种设备、传感器和物体连接到互联网，实现智能化和自动化的网络系统。      2  \n",
       "8   物联网（Internet of Things，IoT）是一种将传感器、设备和物体连接到互联网...      3  \n",
       "9                                             4.自动驾驶       1  \n",
       "10       自动驾驶是一种通过人工智能技术驾驶车辆的方法，使车辆能够在没有人工操作的情况下自行导航       2  \n",
       "11   自动驾驶技术利用深度学习、计算机视觉和传感器融合等人工智能技术，让汽车能够理解和适应复杂的...      3  \n",
       "12                                            5.语音助手       1  \n",
       "13                   语音助手是一种基于人工智能的应用，可以理解和执行用户的语音指令       2  \n",
       "14   语音助手，如 Siri、Alexa 和 Google Assistant，使用自然语言处理...      3  \n",
       "15                                            6.推荐系统       1  \n",
       "16            推荐系统是一种人工智能应用，可以根据用户的历史行为和偏好提供个性化的内容推荐       2  \n",
       "17   推荐系统广泛应用于电子商务、社交媒体和在线视频平台等领域。通过分析用户的历史行为和偏好，推...      3  \n",
       "18                                            7.图像识别       1  \n",
       "19                   图像识别是一种人工智能技术，可以使计算机理解和识别图像中的内容       2  \n",
       "20   图像识别技术利用深度学习和计算机视觉技术，使计算机能够识别图像中的人脸、物体、文字等内容。...      3  \n",
       "21                                            8.机器翻译       1  \n",
       "22                   机器翻译是一种人工智能应用，可以自动将一种语言翻译成另一种语言       2  \n",
       "23   机器翻译技术，如 Google Translate，利用深度学习和自然语言处理技术，理解和...      3  "
      ]
     },
     "execution_count": 164,
     "metadata": {},
     "output_type": "execute_result"
    }
   ],
   "source": [
    "df = pd.DataFrame(input_list)\n",
    "df"
   ]
  }
 ],
 "metadata": {
  "kernelspec": {
   "display_name": "treemap_env",
   "language": "python",
   "name": "python3"
  },
  "language_info": {
   "codemirror_mode": {
    "name": "ipython",
    "version": 3
   },
   "file_extension": ".py",
   "mimetype": "text/x-python",
   "name": "python",
   "nbconvert_exporter": "python",
   "pygments_lexer": "ipython3",
   "version": "3.11.2"
  },
  "orig_nbformat": 4
 },
 "nbformat": 4,
 "nbformat_minor": 2
}
