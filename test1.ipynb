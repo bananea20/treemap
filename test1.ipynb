{
 "cells": [
  {
   "cell_type": "code",
   "execution_count": null,
   "metadata": {},
   "outputs": [],
   "source": [
    "import matplotlib.pyplot as plt\n",
    "import squarify    # pip install squarify (algorithm for treemap)\n",
    "import pandas as pd\n",
    "\n",
    "# Create a data frame with fake data\n",
    "df = pd.DataFrame({'nb_people':[8,3,4,2], 'group':[\"group A\", \"group B\", \"group C\", \"group D\"] })\n",
    "\n",
    "# plot it\n",
    "squarify.plot(sizes=df['nb_people'], label=df['group'], alpha=.8 )\n",
    "plt.axis('off')\n",
    "plt.show()"
   ]
  },
  {
   "cell_type": "code",
   "execution_count": 3,
   "metadata": {},
   "outputs": [
    {
     "name": "stdout",
     "output_type": "stream",
     "text": [
      "before:  {'x': 0, 'y': 0, 'dx': 47.05882352941177, 'dy': 100.0}\n",
      "after:  {'x': 1, 'y': 1, 'dx': 45.05882352941177, 'dy': 98.0}\n",
      "before:  {'x': 47.05882352941177, 'y': 0, 'dx': 52.94117647058823, 'dy': 33.333333333333336}\n",
      "after:  {'x': 48.05882352941177, 'y': 1, 'dx': 50.94117647058823, 'dy': 31.333333333333336}\n",
      "before:  {'x': 47.05882352941177, 'y': 33.333333333333336, 'dx': 52.94117647058823, 'dy': 44.44444444444445}\n",
      "after:  {'x': 48.05882352941177, 'y': 34.333333333333336, 'dx': 50.94117647058823, 'dy': 42.44444444444445}\n",
      "before:  {'x': 47.05882352941177, 'y': 77.77777777777779, 'dx': 52.941176470588275, 'dy': 22.222222222222207}\n",
      "after:  {'x': 48.05882352941177, 'y': 78.77777777777779, 'dx': 50.941176470588275, 'dy': 20.222222222222207}\n"
     ]
    },
    {
     "data": {
      "image/png": "[encoded data removed]",
      "text/plain": [
       "<Figure size 432x288 with 1 Axes>"
      ]
     },
     "metadata": {
      "needs_background": "light"
     },
     "output_type": "display_data"
    }
   ],
   "source": [
    "import matplotlib.pyplot as plt\n",
    "import squarify_modify  as  squarify  # 已经修改\n",
    "import pandas as pd\n",
    "\n",
    "# Create a data frame with fake data\n",
    "\n",
    "\n",
    "\n",
    "weight_list = [8,3,4,2]\n",
    "label_list = [\"group A\", \"group B\", \"group C\", \"group D\"]\n",
    "\n",
    "# 是否使用间隙\n",
    "Pad = True\n",
    "# 间隙\n",
    "Gap_size=1\n",
    "\n",
    "\n",
    "def draw_treemap(weight_list, label_list):\n",
    "\n",
    "    df = pd.DataFrame({'nb_people':weight_list, 'group':label_list })\n",
    "\n",
    "    # plot it\n",
    "    squarify.plot(sizes=df['nb_people'], label=df['group'], alpha=.8,pad=Pad,gap_size=Gap_size)\n",
    "    plt.axis('off')\n",
    "    plt.show()\n",
    "    \n",
    "    \n",
    "draw_treemap(weight_list, label_list)"
   ]
  }
 ],
 "metadata": {
  "kernelspec": {
   "display_name": "base",
   "language": "python",
   "name": "python3"
  },
  "language_info": {
   "codemirror_mode": {
    "name": "ipython",
    "version": 3
   },
   "file_extension": ".py",
   "mimetype": "text/x-python",
   "name": "python",
   "nbconvert_exporter": "python",
   "pygments_lexer": "ipython3",
   "version": "3.8.8"
  },
  "orig_nbformat": 4,
  "vscode": {
   "interpreter": {
    "hash": "d12a6980af1de3549060b7b451d48d445ec6b4aaeaf0b0e12a509d2182e95745"
   }
  }
 },
 "nbformat": 4,
 "nbformat_minor": 2
}
