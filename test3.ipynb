{
 "cells": [
  {
   "cell_type": "code",
   "execution_count": 12,
   "metadata": {},
   "outputs": [
    {
     "name": "stdout",
     "output_type": "stream",
     "text": [
      "Dash is running on http://127.0.0.1:8050/\n",
      "\n"
     ]
    },
    {
     "data": {
      "text/html": [
       "\n",
       "        <iframe\n",
       "            width=\"100%\"\n",
       "            height=\"650\"\n",
       "            src=\"http://127.0.0.1:8050/\"\n",
       "            frameborder=\"0\"\n",
       "            allowfullscreen\n",
       "        ></iframe>\n",
       "        "
      ],
      "text/plain": [
       "<IPython.lib.display.IFrame at 0x28b6a9df460>"
      ]
     },
     "metadata": {},
     "output_type": "display_data"
    }
   ],
   "source": [
    "from jupyter_dash import JupyterDash\n",
    "import dash_core_components as dcc\n",
    "import dash_html_components as html\n",
    "from dash.dependencies import Input, Output, State\n",
    "import plotly.graph_objects as go\n",
    "import pandas as pd\n",
    "import json\n",
    "\n",
    "app = JupyterDash(__name__)\n",
    "\n",
    "df = pd.DataFrame({\n",
    "    'ids': ['A', 'B', 'B1', 'B2', 'C', 'C1'],\n",
    "    'labels': ['A', 'B', 'B1', 'B2', 'C', 'C1'],\n",
    "    'parents': ['', 'A', 'B', 'B', 'A', 'C'],\n",
    "    'extra_info': ['info A', 'info B', 'info B1', 'info B2', 'info C', 'info C1'],\n",
    "    'click_info': ['Information A', 'Information B', \n",
    "                   'Information B1', 'Information B2', 'Information C', 'Information C1']\n",
    "})\n",
    "\n",
    "fig = go.Figure(go.Treemap(\n",
    "    ids = df['ids'],\n",
    "    labels = df['labels'],\n",
    "    parents = df['parents'],\n",
    "    text = df['extra_info'].tolist()\n",
    "))\n",
    "\n",
    "app.layout = html.Div([\n",
    "    dcc.Graph(\n",
    "        id='my-graph',\n",
    "        figure=fig\n",
    "    ),\n",
    "    html.Pre(id='click-data', style={'padding': '10px'}),\n",
    "    html.Div(id='text-storage', style={'display': 'none'}),\n",
    "    html.Div(id='node-clicked', style={'display': 'none'})\n",
    "])\n",
    "\n",
    "@app.callback(\n",
    "    Output('my-graph', 'figure'),\n",
    "    Output('text-storage', 'children'),\n",
    "    Output('node-clicked', 'children'),\n",
    "    Input('my-graph', 'clickData'),\n",
    "    State('my-graph', 'figure'),\n",
    "    State('text-storage', 'children'),\n",
    "    State('node-clicked', 'children'))\n",
    "def update_figure(clickData, fig, stored_text, clicked_node):\n",
    "    if clickData:\n",
    "        point_number = clickData['points'][0]['pointNumber']\n",
    "        if stored_text is None:\n",
    "            stored_text = json.dumps(fig['data'][0]['text'])\n",
    "        if clicked_node is None or clicked_node != point_number:\n",
    "            fig['data'][0]['text'] = json.loads(stored_text)\n",
    "            fig['data'][0]['text'][point_number] = df.loc[point_number, 'click_info']\n",
    "            clicked_node = point_number\n",
    "        else:\n",
    "            fig['data'][0]['text'] = json.loads(stored_text)\n",
    "            clicked_node = None\n",
    "    else:\n",
    "        if stored_text is not None:\n",
    "            fig['data'][0]['text'] = json.loads(stored_text)\n",
    "        clicked_node = None\n",
    "\n",
    "    return fig, stored_text, clicked_node\n",
    "\n",
    "app.run_server(mode='inline')\n",
    "# 功能合并版本"
   ]
  },
  {
   "cell_type": "code",
   "execution_count": 46,
   "metadata": {},
   "outputs": [
    {
     "data": {
      "application/vnd.plotly.v1+json": {
       "config": {
        "plotlyServerURL": "https://plot.ly"
       },
       "data": [
        {
         "customdata": [
          "data1",
          "data2",
          "data3"
         ],
         "hovertemplate": "Label: %{label}<br>Value: %{value}<br>Custom Data: %{customdata}",
         "labels": [
          "A",
          "B",
          "C"
         ],
         "parents": [
          "",
          "",
          ""
         ],
         "type": "treemap",
         "values": [
          10,
          20,
          30
         ]
        }
       ],
       "layout": {
        "template": {
         "data": {
          "bar": [
           {
            "error_x": {
             "color": "#2a3f5f"
            },
            "error_y": {
             "color": "#2a3f5f"
            },
            "marker": {
             "line": {
              "color": "#E5ECF6",
              "width": 0.5
             },
             "pattern": {
              "fillmode": "overlay",
              "size": 10,
              "solidity": 0.2
             }
            },
            "type": "bar"
           }
          ],
          "barpolar": [
           {
            "marker": {
             "line": {
              "color": "#E5ECF6",
              "width": 0.5
             },
             "pattern": {
              "fillmode": "overlay",
              "size": 10,
              "solidity": 0.2
             }
            },
            "type": "barpolar"
           }
          ],
          "carpet": [
           {
            "aaxis": {
             "endlinecolor": "#2a3f5f",
             "gridcolor": "white",
             "linecolor": "white",
             "minorgridcolor": "white",
             "startlinecolor": "#2a3f5f"
            },
            "baxis": {
             "endlinecolor": "#2a3f5f",
             "gridcolor": "white",
             "linecolor": "white",
             "minorgridcolor": "white",
             "startlinecolor": "#2a3f5f"
            },
            "type": "carpet"
           }
          ],
          "choropleth": [
           {
            "colorbar": {
             "outlinewidth": 0,
             "ticks": ""
            },
            "type": "choropleth"
           }
          ],
          "contour": [
           {
            "colorbar": {
             "outlinewidth": 0,
             "ticks": ""
            },
            "colorscale": [
             [
              0,
              "#0d0887"
             ],
             [
              0.1111111111111111,
              "#46039f"
             ],
             [
              0.2222222222222222,
              "#7201a8"
             ],
             [
              0.3333333333333333,
              "#9c179e"
             ],
             [
              0.4444444444444444,
              "#bd3786"
             ],
             [
              0.5555555555555556,
              "#d8576b"
             ],
             [
              0.6666666666666666,
              "#ed7953"
             ],
             [
              0.7777777777777778,
              "#fb9f3a"
             ],
             [
              0.8888888888888888,
              "#fdca26"
             ],
             [
              1,
              "#f0f921"
             ]
            ],
            "type": "contour"
           }
          ],
          "contourcarpet": [
           {
            "colorbar": {
             "outlinewidth": 0,
             "ticks": ""
            },
            "type": "contourcarpet"
           }
          ],
          "heatmap": [
           {
            "colorbar": {
             "outlinewidth": 0,
             "ticks": ""
            },
            "colorscale": [
             [
              0,
              "#0d0887"
             ],
             [
              0.1111111111111111,
              "#46039f"
             ],
             [
              0.2222222222222222,
              "#7201a8"
             ],
             [
              0.3333333333333333,
              "#9c179e"
             ],
             [
              0.4444444444444444,
              "#bd3786"
             ],
             [
              0.5555555555555556,
              "#d8576b"
             ],
             [
              0.6666666666666666,
              "#ed7953"
             ],
             [
              0.7777777777777778,
              "#fb9f3a"
             ],
             [
              0.8888888888888888,
              "#fdca26"
             ],
             [
              1,
              "#f0f921"
             ]
            ],
            "type": "heatmap"
           }
          ],
          "heatmapgl": [
           {
            "colorbar": {
             "outlinewidth": 0,
             "ticks": ""
            },
            "colorscale": [
             [
              0,
              "#0d0887"
             ],
             [
              0.1111111111111111,
              "#46039f"
             ],
             [
              0.2222222222222222,
              "#7201a8"
             ],
             [
              0.3333333333333333,
              "#9c179e"
             ],
             [
              0.4444444444444444,
              "#bd3786"
             ],
             [
              0.5555555555555556,
              "#d8576b"
             ],
             [
              0.6666666666666666,
              "#ed7953"
             ],
             [
              0.7777777777777778,
              "#fb9f3a"
             ],
             [
              0.8888888888888888,
              "#fdca26"
             ],
             [
              1,
              "#f0f921"
             ]
            ],
            "type": "heatmapgl"
           }
          ],
          "histogram": [
           {
            "marker": {
             "pattern": {
              "fillmode": "overlay",
              "size": 10,
              "solidity": 0.2
             }
            },
            "type": "histogram"
           }
          ],
          "histogram2d": [
           {
            "colorbar": {
             "outlinewidth": 0,
             "ticks": ""
            },
            "colorscale": [
             [
              0,
              "#0d0887"
             ],
             [
              0.1111111111111111,
              "#46039f"
             ],
             [
              0.2222222222222222,
              "#7201a8"
             ],
             [
              0.3333333333333333,
              "#9c179e"
             ],
             [
              0.4444444444444444,
              "#bd3786"
             ],
             [
              0.5555555555555556,
              "#d8576b"
             ],
             [
              0.6666666666666666,
              "#ed7953"
             ],
             [
              0.7777777777777778,
              "#fb9f3a"
             ],
             [
              0.8888888888888888,
              "#fdca26"
             ],
             [
              1,
              "#f0f921"
             ]
            ],
            "type": "histogram2d"
           }
          ],
          "histogram2dcontour": [
           {
            "colorbar": {
             "outlinewidth": 0,
             "ticks": ""
            },
            "colorscale": [
             [
              0,
              "#0d0887"
             ],
             [
              0.1111111111111111,
              "#46039f"
             ],
             [
              0.2222222222222222,
              "#7201a8"
             ],
             [
              0.3333333333333333,
              "#9c179e"
             ],
             [
              0.4444444444444444,
              "#bd3786"
             ],
             [
              0.5555555555555556,
              "#d8576b"
             ],
             [
              0.6666666666666666,
              "#ed7953"
             ],
             [
              0.7777777777777778,
              "#fb9f3a"
             ],
             [
              0.8888888888888888,
              "#fdca26"
             ],
             [
              1,
              "#f0f921"
             ]
            ],
            "type": "histogram2dcontour"
           }
          ],
          "mesh3d": [
           {
            "colorbar": {
             "outlinewidth": 0,
             "ticks": ""
            },
            "type": "mesh3d"
           }
          ],
          "parcoords": [
           {
            "line": {
             "colorbar": {
              "outlinewidth": 0,
              "ticks": ""
             }
            },
            "type": "parcoords"
           }
          ],
          "pie": [
           {
            "automargin": true,
            "type": "pie"
           }
          ],
          "scatter": [
           {
            "fillpattern": {
             "fillmode": "overlay",
             "size": 10,
             "solidity": 0.2
            },
            "type": "scatter"
           }
          ],
          "scatter3d": [
           {
            "line": {
             "colorbar": {
              "outlinewidth": 0,
              "ticks": ""
             }
            },
            "marker": {
             "colorbar": {
              "outlinewidth": 0,
              "ticks": ""
             }
            },
            "type": "scatter3d"
           }
          ],
          "scattercarpet": [
           {
            "marker": {
             "colorbar": {
              "outlinewidth": 0,
              "ticks": ""
             }
            },
            "type": "scattercarpet"
           }
          ],
          "scattergeo": [
           {
            "marker": {
             "colorbar": {
              "outlinewidth": 0,
              "ticks": ""
             }
            },
            "type": "scattergeo"
           }
          ],
          "scattergl": [
           {
            "marker": {
             "colorbar": {
              "outlinewidth": 0,
              "ticks": ""
             }
            },
            "type": "scattergl"
           }
          ],
          "scattermapbox": [
           {
            "marker": {
             "colorbar": {
              "outlinewidth": 0,
              "ticks": ""
             }
            },
            "type": "scattermapbox"
           }
          ],
          "scatterpolar": [
           {
            "marker": {
             "colorbar": {
              "outlinewidth": 0,
              "ticks": ""
             }
            },
            "type": "scatterpolar"
           }
          ],
          "scatterpolargl": [
           {
            "marker": {
             "colorbar": {
              "outlinewidth": 0,
              "ticks": ""
             }
            },
            "type": "scatterpolargl"
           }
          ],
          "scatterternary": [
           {
            "marker": {
             "colorbar": {
              "outlinewidth": 0,
              "ticks": ""
             }
            },
            "type": "scatterternary"
           }
          ],
          "surface": [
           {
            "colorbar": {
             "outlinewidth": 0,
             "ticks": ""
            },
            "colorscale": [
             [
              0,
              "#0d0887"
             ],
             [
              0.1111111111111111,
              "#46039f"
             ],
             [
              0.2222222222222222,
              "#7201a8"
             ],
             [
              0.3333333333333333,
              "#9c179e"
             ],
             [
              0.4444444444444444,
              "#bd3786"
             ],
             [
              0.5555555555555556,
              "#d8576b"
             ],
             [
              0.6666666666666666,
              "#ed7953"
             ],
             [
              0.7777777777777778,
              "#fb9f3a"
             ],
             [
              0.8888888888888888,
              "#fdca26"
             ],
             [
              1,
              "#f0f921"
             ]
            ],
            "type": "surface"
           }
          ],
          "table": [
           {
            "cells": {
             "fill": {
              "color": "#EBF0F8"
             },
             "line": {
              "color": "white"
             }
            },
            "header": {
             "fill": {
              "color": "#C8D4E3"
             },
             "line": {
              "color": "white"
             }
            },
            "type": "table"
           }
          ]
         },
         "layout": {
          "annotationdefaults": {
           "arrowcolor": "#2a3f5f",
           "arrowhead": 0,
           "arrowwidth": 1
          },
          "autotypenumbers": "strict",
          "coloraxis": {
           "colorbar": {
            "outlinewidth": 0,
            "ticks": ""
           }
          },
          "colorscale": {
           "diverging": [
            [
             0,
             "#8e0152"
            ],
            [
             0.1,
             "#c51b7d"
            ],
            [
             0.2,
             "#de77ae"
            ],
            [
             0.3,
             "#f1b6da"
            ],
            [
             0.4,
             "#fde0ef"
            ],
            [
             0.5,
             "#f7f7f7"
            ],
            [
             0.6,
             "#e6f5d0"
            ],
            [
             0.7,
             "#b8e186"
            ],
            [
             0.8,
             "#7fbc41"
            ],
            [
             0.9,
             "#4d9221"
            ],
            [
             1,
             "#276419"
            ]
           ],
           "sequential": [
            [
             0,
             "#0d0887"
            ],
            [
             0.1111111111111111,
             "#46039f"
            ],
            [
             0.2222222222222222,
             "#7201a8"
            ],
            [
             0.3333333333333333,
             "#9c179e"
            ],
            [
             0.4444444444444444,
             "#bd3786"
            ],
            [
             0.5555555555555556,
             "#d8576b"
            ],
            [
             0.6666666666666666,
             "#ed7953"
            ],
            [
             0.7777777777777778,
             "#fb9f3a"
            ],
            [
             0.8888888888888888,
             "#fdca26"
            ],
            [
             1,
             "#f0f921"
            ]
           ],
           "sequentialminus": [
            [
             0,
             "#0d0887"
            ],
            [
             0.1111111111111111,
             "#46039f"
            ],
            [
             0.2222222222222222,
             "#7201a8"
            ],
            [
             0.3333333333333333,
             "#9c179e"
            ],
            [
             0.4444444444444444,
             "#bd3786"
            ],
            [
             0.5555555555555556,
             "#d8576b"
            ],
            [
             0.6666666666666666,
             "#ed7953"
            ],
            [
             0.7777777777777778,
             "#fb9f3a"
            ],
            [
             0.8888888888888888,
             "#fdca26"
            ],
            [
             1,
             "#f0f921"
            ]
           ]
          },
          "colorway": [
           "#636efa",
           "#EF553B",
           "#00cc96",
           "#ab63fa",
           "#FFA15A",
           "#19d3f3",
           "#FF6692",
           "#B6E880",
           "#FF97FF",
           "#FECB52"
          ],
          "font": {
           "color": "#2a3f5f"
          },
          "geo": {
           "bgcolor": "white",
           "lakecolor": "white",
           "landcolor": "#E5ECF6",
           "showlakes": true,
           "showland": true,
           "subunitcolor": "white"
          },
          "hoverlabel": {
           "align": "left"
          },
          "hovermode": "closest",
          "mapbox": {
           "style": "light"
          },
          "paper_bgcolor": "white",
          "plot_bgcolor": "#E5ECF6",
          "polar": {
           "angularaxis": {
            "gridcolor": "white",
            "linecolor": "white",
            "ticks": ""
           },
           "bgcolor": "#E5ECF6",
           "radialaxis": {
            "gridcolor": "white",
            "linecolor": "white",
            "ticks": ""
           }
          },
          "scene": {
           "xaxis": {
            "backgroundcolor": "#E5ECF6",
            "gridcolor": "white",
            "gridwidth": 2,
            "linecolor": "white",
            "showbackground": true,
            "ticks": "",
            "zerolinecolor": "white"
           },
           "yaxis": {
            "backgroundcolor": "#E5ECF6",
            "gridcolor": "white",
            "gridwidth": 2,
            "linecolor": "white",
            "showbackground": true,
            "ticks": "",
            "zerolinecolor": "white"
           },
           "zaxis": {
            "backgroundcolor": "#E5ECF6",
            "gridcolor": "white",
            "gridwidth": 2,
            "linecolor": "white",
            "showbackground": true,
            "ticks": "",
            "zerolinecolor": "white"
           }
          },
          "shapedefaults": {
           "line": {
            "color": "#2a3f5f"
           }
          },
          "ternary": {
           "aaxis": {
            "gridcolor": "white",
            "linecolor": "white",
            "ticks": ""
           },
           "baxis": {
            "gridcolor": "white",
            "linecolor": "white",
            "ticks": ""
           },
           "bgcolor": "#E5ECF6",
           "caxis": {
            "gridcolor": "white",
            "linecolor": "white",
            "ticks": ""
           }
          },
          "title": {
           "x": 0.05
          },
          "xaxis": {
           "automargin": true,
           "gridcolor": "white",
           "linecolor": "white",
           "ticks": "",
           "title": {
            "standoff": 15
           },
           "zerolinecolor": "white",
           "zerolinewidth": 2
          },
          "yaxis": {
           "automargin": true,
           "gridcolor": "white",
           "linecolor": "white",
           "ticks": "",
           "title": {
            "standoff": 15
           },
           "zerolinecolor": "white",
           "zerolinewidth": 2
          }
         }
        }
       }
      }
     },
     "metadata": {},
     "output_type": "display_data"
    }
   ],
   "source": [
    "import plotly.graph_objects as go\n",
    "\n",
    "# 创建一个简单的 Treemap 图表\n",
    "labels = ['A', 'B', 'C']\n",
    "values = [10, 20, 30]\n",
    "custom_data = ['data1', 'data2', 'data3']\n",
    "\n",
    "fig = go.Figure(go.Treemap(\n",
    "    labels=labels,\n",
    "    parents=['', '', ''],\n",
    "    values=values,\n",
    "    customdata=custom_data\n",
    "))\n",
    "\n",
    "# 设置悬停文本和自定义数据的显示格式\n",
    "fig.update_traces(\n",
    "    hovertemplate='Label: %{label}<br>Value: %{value}<br>Custom Data: %{customdata}'\n",
    ")\n",
    "\n",
    "# 显示图表\n",
    "fig.show()\n"
   ]
  },
  {
   "cell_type": "code",
   "execution_count": 53,
   "metadata": {},
   "outputs": [
    {
     "data": {
      "application/vnd.plotly.v1+json": {
       "config": {
        "plotlyServerURL": "https://plot.ly"
       },
       "data": [
        {
         "labels": [
          "A",
          "B",
          "C"
         ],
         "parents": [
          "",
          "",
          ""
         ],
         "type": "treemap",
         "values": [
          10,
          20,
          30
         ]
        }
       ],
       "layout": {
        "annotations": [
         {
          "font": {
           "size": 12
          },
          "showarrow": false,
          "text": "First line<br>Second line",
          "x": 0.5,
          "y": 0.5
         },
         {
          "font": {
           "size": 12
          },
          "showarrow": false,
          "text": "Data with multiple lines",
          "x": 0.5,
          "y": 1.5
         },
         {
          "font": {
           "size": 12
          },
          "showarrow": false,
          "text": "Single line",
          "x": 0.5,
          "y": 2.5
         }
        ],
        "template": {
         "data": {
          "bar": [
           {
            "error_x": {
             "color": "#2a3f5f"
            },
            "error_y": {
             "color": "#2a3f5f"
            },
            "marker": {
             "line": {
              "color": "#E5ECF6",
              "width": 0.5
             },
             "pattern": {
              "fillmode": "overlay",
              "size": 10,
              "solidity": 0.2
             }
            },
            "type": "bar"
           }
          ],
          "barpolar": [
           {
            "marker": {
             "line": {
              "color": "#E5ECF6",
              "width": 0.5
             },
             "pattern": {
              "fillmode": "overlay",
              "size": 10,
              "solidity": 0.2
             }
            },
            "type": "barpolar"
           }
          ],
          "carpet": [
           {
            "aaxis": {
             "endlinecolor": "#2a3f5f",
             "gridcolor": "white",
             "linecolor": "white",
             "minorgridcolor": "white",
             "startlinecolor": "#2a3f5f"
            },
            "baxis": {
             "endlinecolor": "#2a3f5f",
             "gridcolor": "white",
             "linecolor": "white",
             "minorgridcolor": "white",
             "startlinecolor": "#2a3f5f"
            },
            "type": "carpet"
           }
          ],
          "choropleth": [
           {
            "colorbar": {
             "outlinewidth": 0,
             "ticks": ""
            },
            "type": "choropleth"
           }
          ],
          "contour": [
           {
            "colorbar": {
             "outlinewidth": 0,
             "ticks": ""
            },
            "colorscale": [
             [
              0,
              "#0d0887"
             ],
             [
              0.1111111111111111,
              "#46039f"
             ],
             [
              0.2222222222222222,
              "#7201a8"
             ],
             [
              0.3333333333333333,
              "#9c179e"
             ],
             [
              0.4444444444444444,
              "#bd3786"
             ],
             [
              0.5555555555555556,
              "#d8576b"
             ],
             [
              0.6666666666666666,
              "#ed7953"
             ],
             [
              0.7777777777777778,
              "#fb9f3a"
             ],
             [
              0.8888888888888888,
              "#fdca26"
             ],
             [
              1,
              "#f0f921"
             ]
            ],
            "type": "contour"
           }
          ],
          "contourcarpet": [
           {
            "colorbar": {
             "outlinewidth": 0,
             "ticks": ""
            },
            "type": "contourcarpet"
           }
          ],
          "heatmap": [
           {
            "colorbar": {
             "outlinewidth": 0,
             "ticks": ""
            },
            "colorscale": [
             [
              0,
              "#0d0887"
             ],
             [
              0.1111111111111111,
              "#46039f"
             ],
             [
              0.2222222222222222,
              "#7201a8"
             ],
             [
              0.3333333333333333,
              "#9c179e"
             ],
             [
              0.4444444444444444,
              "#bd3786"
             ],
             [
              0.5555555555555556,
              "#d8576b"
             ],
             [
              0.6666666666666666,
              "#ed7953"
             ],
             [
              0.7777777777777778,
              "#fb9f3a"
             ],
             [
              0.8888888888888888,
              "#fdca26"
             ],
             [
              1,
              "#f0f921"
             ]
            ],
            "type": "heatmap"
           }
          ],
          "heatmapgl": [
           {
            "colorbar": {
             "outlinewidth": 0,
             "ticks": ""
            },
            "colorscale": [
             [
              0,
              "#0d0887"
             ],
             [
              0.1111111111111111,
              "#46039f"
             ],
             [
              0.2222222222222222,
              "#7201a8"
             ],
             [
              0.3333333333333333,
              "#9c179e"
             ],
             [
              0.4444444444444444,
              "#bd3786"
             ],
             [
              0.5555555555555556,
              "#d8576b"
             ],
             [
              0.6666666666666666,
              "#ed7953"
             ],
             [
              0.7777777777777778,
              "#fb9f3a"
             ],
             [
              0.8888888888888888,
              "#fdca26"
             ],
             [
              1,
              "#f0f921"
             ]
            ],
            "type": "heatmapgl"
           }
          ],
          "histogram": [
           {
            "marker": {
             "pattern": {
              "fillmode": "overlay",
              "size": 10,
              "solidity": 0.2
             }
            },
            "type": "histogram"
           }
          ],
          "histogram2d": [
           {
            "colorbar": {
             "outlinewidth": 0,
             "ticks": ""
            },
            "colorscale": [
             [
              0,
              "#0d0887"
             ],
             [
              0.1111111111111111,
              "#46039f"
             ],
             [
              0.2222222222222222,
              "#7201a8"
             ],
             [
              0.3333333333333333,
              "#9c179e"
             ],
             [
              0.4444444444444444,
              "#bd3786"
             ],
             [
              0.5555555555555556,
              "#d8576b"
             ],
             [
              0.6666666666666666,
              "#ed7953"
             ],
             [
              0.7777777777777778,
              "#fb9f3a"
             ],
             [
              0.8888888888888888,
              "#fdca26"
             ],
             [
              1,
              "#f0f921"
             ]
            ],
            "type": "histogram2d"
           }
          ],
          "histogram2dcontour": [
           {
            "colorbar": {
             "outlinewidth": 0,
             "ticks": ""
            },
            "colorscale": [
             [
              0,
              "#0d0887"
             ],
             [
              0.1111111111111111,
              "#46039f"
             ],
             [
              0.2222222222222222,
              "#7201a8"
             ],
             [
              0.3333333333333333,
              "#9c179e"
             ],
             [
              0.4444444444444444,
              "#bd3786"
             ],
             [
              0.5555555555555556,
              "#d8576b"
             ],
             [
              0.6666666666666666,
              "#ed7953"
             ],
             [
              0.7777777777777778,
              "#fb9f3a"
             ],
             [
              0.8888888888888888,
              "#fdca26"
             ],
             [
              1,
              "#f0f921"
             ]
            ],
            "type": "histogram2dcontour"
           }
          ],
          "mesh3d": [
           {
            "colorbar": {
             "outlinewidth": 0,
             "ticks": ""
            },
            "type": "mesh3d"
           }
          ],
          "parcoords": [
           {
            "line": {
             "colorbar": {
              "outlinewidth": 0,
              "ticks": ""
             }
            },
            "type": "parcoords"
           }
          ],
          "pie": [
           {
            "automargin": true,
            "type": "pie"
           }
          ],
          "scatter": [
           {
            "fillpattern": {
             "fillmode": "overlay",
             "size": 10,
             "solidity": 0.2
            },
            "type": "scatter"
           }
          ],
          "scatter3d": [
           {
            "line": {
             "colorbar": {
              "outlinewidth": 0,
              "ticks": ""
             }
            },
            "marker": {
             "colorbar": {
              "outlinewidth": 0,
              "ticks": ""
             }
            },
            "type": "scatter3d"
           }
          ],
          "scattercarpet": [
           {
            "marker": {
             "colorbar": {
              "outlinewidth": 0,
              "ticks": ""
             }
            },
            "type": "scattercarpet"
           }
          ],
          "scattergeo": [
           {
            "marker": {
             "colorbar": {
              "outlinewidth": 0,
              "ticks": ""
             }
            },
            "type": "scattergeo"
           }
          ],
          "scattergl": [
           {
            "marker": {
             "colorbar": {
              "outlinewidth": 0,
              "ticks": ""
             }
            },
            "type": "scattergl"
           }
          ],
          "scattermapbox": [
           {
            "marker": {
             "colorbar": {
              "outlinewidth": 0,
              "ticks": ""
             }
            },
            "type": "scattermapbox"
           }
          ],
          "scatterpolar": [
           {
            "marker": {
             "colorbar": {
              "outlinewidth": 0,
              "ticks": ""
             }
            },
            "type": "scatterpolar"
           }
          ],
          "scatterpolargl": [
           {
            "marker": {
             "colorbar": {
              "outlinewidth": 0,
              "ticks": ""
             }
            },
            "type": "scatterpolargl"
           }
          ],
          "scatterternary": [
           {
            "marker": {
             "colorbar": {
              "outlinewidth": 0,
              "ticks": ""
             }
            },
            "type": "scatterternary"
           }
          ],
          "surface": [
           {
            "colorbar": {
             "outlinewidth": 0,
             "ticks": ""
            },
            "colorscale": [
             [
              0,
              "#0d0887"
             ],
             [
              0.1111111111111111,
              "#46039f"
             ],
             [
              0.2222222222222222,
              "#7201a8"
             ],
             [
              0.3333333333333333,
              "#9c179e"
             ],
             [
              0.4444444444444444,
              "#bd3786"
             ],
             [
              0.5555555555555556,
              "#d8576b"
             ],
             [
              0.6666666666666666,
              "#ed7953"
             ],
             [
              0.7777777777777778,
              "#fb9f3a"
             ],
             [
              0.8888888888888888,
              "#fdca26"
             ],
             [
              1,
              "#f0f921"
             ]
            ],
            "type": "surface"
           }
          ],
          "table": [
           {
            "cells": {
             "fill": {
              "color": "#EBF0F8"
             },
             "line": {
              "color": "white"
             }
            },
            "header": {
             "fill": {
              "color": "#C8D4E3"
             },
             "line": {
              "color": "white"
             }
            },
            "type": "table"
           }
          ]
         },
         "layout": {
          "annotationdefaults": {
           "arrowcolor": "#2a3f5f",
           "arrowhead": 0,
           "arrowwidth": 1
          },
          "autotypenumbers": "strict",
          "coloraxis": {
           "colorbar": {
            "outlinewidth": 0,
            "ticks": ""
           }
          },
          "colorscale": {
           "diverging": [
            [
             0,
             "#8e0152"
            ],
            [
             0.1,
             "#c51b7d"
            ],
            [
             0.2,
             "#de77ae"
            ],
            [
             0.3,
             "#f1b6da"
            ],
            [
             0.4,
             "#fde0ef"
            ],
            [
             0.5,
             "#f7f7f7"
            ],
            [
             0.6,
             "#e6f5d0"
            ],
            [
             0.7,
             "#b8e186"
            ],
            [
             0.8,
             "#7fbc41"
            ],
            [
             0.9,
             "#4d9221"
            ],
            [
             1,
             "#276419"
            ]
           ],
           "sequential": [
            [
             0,
             "#0d0887"
            ],
            [
             0.1111111111111111,
             "#46039f"
            ],
            [
             0.2222222222222222,
             "#7201a8"
            ],
            [
             0.3333333333333333,
             "#9c179e"
            ],
            [
             0.4444444444444444,
             "#bd3786"
            ],
            [
             0.5555555555555556,
             "#d8576b"
            ],
            [
             0.6666666666666666,
             "#ed7953"
            ],
            [
             0.7777777777777778,
             "#fb9f3a"
            ],
            [
             0.8888888888888888,
             "#fdca26"
            ],
            [
             1,
             "#f0f921"
            ]
           ],
           "sequentialminus": [
            [
             0,
             "#0d0887"
            ],
            [
             0.1111111111111111,
             "#46039f"
            ],
            [
             0.2222222222222222,
             "#7201a8"
            ],
            [
             0.3333333333333333,
             "#9c179e"
            ],
            [
             0.4444444444444444,
             "#bd3786"
            ],
            [
             0.5555555555555556,
             "#d8576b"
            ],
            [
             0.6666666666666666,
             "#ed7953"
            ],
            [
             0.7777777777777778,
             "#fb9f3a"
            ],
            [
             0.8888888888888888,
             "#fdca26"
            ],
            [
             1,
             "#f0f921"
            ]
           ]
          },
          "colorway": [
           "#636efa",
           "#EF553B",
           "#00cc96",
           "#ab63fa",
           "#FFA15A",
           "#19d3f3",
           "#FF6692",
           "#B6E880",
           "#FF97FF",
           "#FECB52"
          ],
          "font": {
           "color": "#2a3f5f"
          },
          "geo": {
           "bgcolor": "white",
           "lakecolor": "white",
           "landcolor": "#E5ECF6",
           "showlakes": true,
           "showland": true,
           "subunitcolor": "white"
          },
          "hoverlabel": {
           "align": "left"
          },
          "hovermode": "closest",
          "mapbox": {
           "style": "light"
          },
          "paper_bgcolor": "white",
          "plot_bgcolor": "#E5ECF6",
          "polar": {
           "angularaxis": {
            "gridcolor": "white",
            "linecolor": "white",
            "ticks": ""
           },
           "bgcolor": "#E5ECF6",
           "radialaxis": {
            "gridcolor": "white",
            "linecolor": "white",
            "ticks": ""
           }
          },
          "scene": {
           "xaxis": {
            "backgroundcolor": "#E5ECF6",
            "gridcolor": "white",
            "gridwidth": 2,
            "linecolor": "white",
            "showbackground": true,
            "ticks": "",
            "zerolinecolor": "white"
           },
           "yaxis": {
            "backgroundcolor": "#E5ECF6",
            "gridcolor": "white",
            "gridwidth": 2,
            "linecolor": "white",
            "showbackground": true,
            "ticks": "",
            "zerolinecolor": "white"
           },
           "zaxis": {
            "backgroundcolor": "#E5ECF6",
            "gridcolor": "white",
            "gridwidth": 2,
            "linecolor": "white",
            "showbackground": true,
            "ticks": "",
            "zerolinecolor": "white"
           }
          },
          "shapedefaults": {
           "line": {
            "color": "#2a3f5f"
           }
          },
          "ternary": {
           "aaxis": {
            "gridcolor": "white",
            "linecolor": "white",
            "ticks": ""
           },
           "baxis": {
            "gridcolor": "white",
            "linecolor": "white",
            "ticks": ""
           },
           "bgcolor": "#E5ECF6",
           "caxis": {
            "gridcolor": "white",
            "linecolor": "white",
            "ticks": ""
           }
          },
          "title": {
           "x": 0.05
          },
          "xaxis": {
           "automargin": true,
           "gridcolor": "white",
           "linecolor": "white",
           "ticks": "",
           "title": {
            "standoff": 15
           },
           "zerolinecolor": "white",
           "zerolinewidth": 2
          },
          "yaxis": {
           "automargin": true,
           "gridcolor": "white",
           "linecolor": "white",
           "ticks": "",
           "title": {
            "standoff": 15
           },
           "zerolinecolor": "white",
           "zerolinewidth": 2
          }
         }
        }
       }
      }
     },
     "metadata": {},
     "output_type": "display_data"
    }
   ],
   "source": [
    "import plotly.graph_objects as go\n",
    "\n",
    "# 创建一个简单的 Treemap 图表\n",
    "labels = ['A', 'B', 'C']\n",
    "values = [10, 20, 30]\n",
    "custom_data = ['First line<br>Second line', 'Data with multiple lines', 'Single line']\n",
    "\n",
    "fig = go.Figure(go.Treemap(\n",
    "    labels=labels,\n",
    "    parents=['', '', ''],\n",
    "    values=values\n",
    "))\n",
    "\n",
    "# 添加自定义的文本注释\n",
    "for i, text in enumerate(custom_data):\n",
    "    annotation = go.layout.Annotation(\n",
    "        x=0.5,  # x 坐标位置\n",
    "        y=i+0.5,  # y 坐标位置\n",
    "        text=text,  # 文本内容，包含换行\n",
    "        showarrow=False,  # 不显示箭头\n",
    "        font=dict(size=12)  # 字体大小\n",
    "    )\n",
    "    fig.add_annotation(annotation)\n",
    "\n",
    "# 显示图表\n",
    "fig.show()\n"
   ]
  },
  {
   "cell_type": "code",
   "execution_count": 57,
   "metadata": {},
   "outputs": [
    {
     "data": {
      "application/vnd.plotly.v1+json": {
       "config": {
        "plotlyServerURL": "https://plot.ly"
       },
       "data": [
        {
         "hoverinfo": "none",
         "labels": [
          "A",
          "B",
          "C"
         ],
         "parents": [
          "",
          "",
          ""
         ],
         "text": [
          "First line<br>Second line",
          "Data with multiple lines",
          "Single line"
         ],
         "texttemplate": "%{text}",
         "type": "treemap",
         "values": [
          10,
          20,
          30
         ]
        }
       ],
       "layout": {
        "template": {
         "data": {
          "bar": [
           {
            "error_x": {
             "color": "#2a3f5f"
            },
            "error_y": {
             "color": "#2a3f5f"
            },
            "marker": {
             "line": {
              "color": "#E5ECF6",
              "width": 0.5
             },
             "pattern": {
              "fillmode": "overlay",
              "size": 10,
              "solidity": 0.2
             }
            },
            "type": "bar"
           }
          ],
          "barpolar": [
           {
            "marker": {
             "line": {
              "color": "#E5ECF6",
              "width": 0.5
             },
             "pattern": {
              "fillmode": "overlay",
              "size": 10,
              "solidity": 0.2
             }
            },
            "type": "barpolar"
           }
          ],
          "carpet": [
           {
            "aaxis": {
             "endlinecolor": "#2a3f5f",
             "gridcolor": "white",
             "linecolor": "white",
             "minorgridcolor": "white",
             "startlinecolor": "#2a3f5f"
            },
            "baxis": {
             "endlinecolor": "#2a3f5f",
             "gridcolor": "white",
             "linecolor": "white",
             "minorgridcolor": "white",
             "startlinecolor": "#2a3f5f"
            },
            "type": "carpet"
           }
          ],
          "choropleth": [
           {
            "colorbar": {
             "outlinewidth": 0,
             "ticks": ""
            },
            "type": "choropleth"
           }
          ],
          "contour": [
           {
            "colorbar": {
             "outlinewidth": 0,
             "ticks": ""
            },
            "colorscale": [
             [
              0,
              "#0d0887"
             ],
             [
              0.1111111111111111,
              "#46039f"
             ],
             [
              0.2222222222222222,
              "#7201a8"
             ],
             [
              0.3333333333333333,
              "#9c179e"
             ],
             [
              0.4444444444444444,
              "#bd3786"
             ],
             [
              0.5555555555555556,
              "#d8576b"
             ],
             [
              0.6666666666666666,
              "#ed7953"
             ],
             [
              0.7777777777777778,
              "#fb9f3a"
             ],
             [
              0.8888888888888888,
              "#fdca26"
             ],
             [
              1,
              "#f0f921"
             ]
            ],
            "type": "contour"
           }
          ],
          "contourcarpet": [
           {
            "colorbar": {
             "outlinewidth": 0,
             "ticks": ""
            },
            "type": "contourcarpet"
           }
          ],
          "heatmap": [
           {
            "colorbar": {
             "outlinewidth": 0,
             "ticks": ""
            },
            "colorscale": [
             [
              0,
              "#0d0887"
             ],
             [
              0.1111111111111111,
              "#46039f"
             ],
             [
              0.2222222222222222,
              "#7201a8"
             ],
             [
              0.3333333333333333,
              "#9c179e"
             ],
             [
              0.4444444444444444,
              "#bd3786"
             ],
             [
              0.5555555555555556,
              "#d8576b"
             ],
             [
              0.6666666666666666,
              "#ed7953"
             ],
             [
              0.7777777777777778,
              "#fb9f3a"
             ],
             [
              0.8888888888888888,
              "#fdca26"
             ],
             [
              1,
              "#f0f921"
             ]
            ],
            "type": "heatmap"
           }
          ],
          "heatmapgl": [
           {
            "colorbar": {
             "outlinewidth": 0,
             "ticks": ""
            },
            "colorscale": [
             [
              0,
              "#0d0887"
             ],
             [
              0.1111111111111111,
              "#46039f"
             ],
             [
              0.2222222222222222,
              "#7201a8"
             ],
             [
              0.3333333333333333,
              "#9c179e"
             ],
             [
              0.4444444444444444,
              "#bd3786"
             ],
             [
              0.5555555555555556,
              "#d8576b"
             ],
             [
              0.6666666666666666,
              "#ed7953"
             ],
             [
              0.7777777777777778,
              "#fb9f3a"
             ],
             [
              0.8888888888888888,
              "#fdca26"
             ],
             [
              1,
              "#f0f921"
             ]
            ],
            "type": "heatmapgl"
           }
          ],
          "histogram": [
           {
            "marker": {
             "pattern": {
              "fillmode": "overlay",
              "size": 10,
              "solidity": 0.2
             }
            },
            "type": "histogram"
           }
          ],
          "histogram2d": [
           {
            "colorbar": {
             "outlinewidth": 0,
             "ticks": ""
            },
            "colorscale": [
             [
              0,
              "#0d0887"
             ],
             [
              0.1111111111111111,
              "#46039f"
             ],
             [
              0.2222222222222222,
              "#7201a8"
             ],
             [
              0.3333333333333333,
              "#9c179e"
             ],
             [
              0.4444444444444444,
              "#bd3786"
             ],
             [
              0.5555555555555556,
              "#d8576b"
             ],
             [
              0.6666666666666666,
              "#ed7953"
             ],
             [
              0.7777777777777778,
              "#fb9f3a"
             ],
             [
              0.8888888888888888,
              "#fdca26"
             ],
             [
              1,
              "#f0f921"
             ]
            ],
            "type": "histogram2d"
           }
          ],
          "histogram2dcontour": [
           {
            "colorbar": {
             "outlinewidth": 0,
             "ticks": ""
            },
            "colorscale": [
             [
              0,
              "#0d0887"
             ],
             [
              0.1111111111111111,
              "#46039f"
             ],
             [
              0.2222222222222222,
              "#7201a8"
             ],
             [
              0.3333333333333333,
              "#9c179e"
             ],
             [
              0.4444444444444444,
              "#bd3786"
             ],
             [
              0.5555555555555556,
              "#d8576b"
             ],
             [
              0.6666666666666666,
              "#ed7953"
             ],
             [
              0.7777777777777778,
              "#fb9f3a"
             ],
             [
              0.8888888888888888,
              "#fdca26"
             ],
             [
              1,
              "#f0f921"
             ]
            ],
            "type": "histogram2dcontour"
           }
          ],
          "mesh3d": [
           {
            "colorbar": {
             "outlinewidth": 0,
             "ticks": ""
            },
            "type": "mesh3d"
           }
          ],
          "parcoords": [
           {
            "line": {
             "colorbar": {
              "outlinewidth": 0,
              "ticks": ""
             }
            },
            "type": "parcoords"
           }
          ],
          "pie": [
           {
            "automargin": true,
            "type": "pie"
           }
          ],
          "scatter": [
           {
            "fillpattern": {
             "fillmode": "overlay",
             "size": 10,
             "solidity": 0.2
            },
            "type": "scatter"
           }
          ],
          "scatter3d": [
           {
            "line": {
             "colorbar": {
              "outlinewidth": 0,
              "ticks": ""
             }
            },
            "marker": {
             "colorbar": {
              "outlinewidth": 0,
              "ticks": ""
             }
            },
            "type": "scatter3d"
           }
          ],
          "scattercarpet": [
           {
            "marker": {
             "colorbar": {
              "outlinewidth": 0,
              "ticks": ""
             }
            },
            "type": "scattercarpet"
           }
          ],
          "scattergeo": [
           {
            "marker": {
             "colorbar": {
              "outlinewidth": 0,
              "ticks": ""
             }
            },
            "type": "scattergeo"
           }
          ],
          "scattergl": [
           {
            "marker": {
             "colorbar": {
              "outlinewidth": 0,
              "ticks": ""
             }
            },
            "type": "scattergl"
           }
          ],
          "scattermapbox": [
           {
            "marker": {
             "colorbar": {
              "outlinewidth": 0,
              "ticks": ""
             }
            },
            "type": "scattermapbox"
           }
          ],
          "scatterpolar": [
           {
            "marker": {
             "colorbar": {
              "outlinewidth": 0,
              "ticks": ""
             }
            },
            "type": "scatterpolar"
           }
          ],
          "scatterpolargl": [
           {
            "marker": {
             "colorbar": {
              "outlinewidth": 0,
              "ticks": ""
             }
            },
            "type": "scatterpolargl"
           }
          ],
          "scatterternary": [
           {
            "marker": {
             "colorbar": {
              "outlinewidth": 0,
              "ticks": ""
             }
            },
            "type": "scatterternary"
           }
          ],
          "surface": [
           {
            "colorbar": {
             "outlinewidth": 0,
             "ticks": ""
            },
            "colorscale": [
             [
              0,
              "#0d0887"
             ],
             [
              0.1111111111111111,
              "#46039f"
             ],
             [
              0.2222222222222222,
              "#7201a8"
             ],
             [
              0.3333333333333333,
              "#9c179e"
             ],
             [
              0.4444444444444444,
              "#bd3786"
             ],
             [
              0.5555555555555556,
              "#d8576b"
             ],
             [
              0.6666666666666666,
              "#ed7953"
             ],
             [
              0.7777777777777778,
              "#fb9f3a"
             ],
             [
              0.8888888888888888,
              "#fdca26"
             ],
             [
              1,
              "#f0f921"
             ]
            ],
            "type": "surface"
           }
          ],
          "table": [
           {
            "cells": {
             "fill": {
              "color": "#EBF0F8"
             },
             "line": {
              "color": "white"
             }
            },
            "header": {
             "fill": {
              "color": "#C8D4E3"
             },
             "line": {
              "color": "white"
             }
            },
            "type": "table"
           }
          ]
         },
         "layout": {
          "annotationdefaults": {
           "arrowcolor": "#2a3f5f",
           "arrowhead": 0,
           "arrowwidth": 1
          },
          "autotypenumbers": "strict",
          "coloraxis": {
           "colorbar": {
            "outlinewidth": 0,
            "ticks": ""
           }
          },
          "colorscale": {
           "diverging": [
            [
             0,
             "#8e0152"
            ],
            [
             0.1,
             "#c51b7d"
            ],
            [
             0.2,
             "#de77ae"
            ],
            [
             0.3,
             "#f1b6da"
            ],
            [
             0.4,
             "#fde0ef"
            ],
            [
             0.5,
             "#f7f7f7"
            ],
            [
             0.6,
             "#e6f5d0"
            ],
            [
             0.7,
             "#b8e186"
            ],
            [
             0.8,
             "#7fbc41"
            ],
            [
             0.9,
             "#4d9221"
            ],
            [
             1,
             "#276419"
            ]
           ],
           "sequential": [
            [
             0,
             "#0d0887"
            ],
            [
             0.1111111111111111,
             "#46039f"
            ],
            [
             0.2222222222222222,
             "#7201a8"
            ],
            [
             0.3333333333333333,
             "#9c179e"
            ],
            [
             0.4444444444444444,
             "#bd3786"
            ],
            [
             0.5555555555555556,
             "#d8576b"
            ],
            [
             0.6666666666666666,
             "#ed7953"
            ],
            [
             0.7777777777777778,
             "#fb9f3a"
            ],
            [
             0.8888888888888888,
             "#fdca26"
            ],
            [
             1,
             "#f0f921"
            ]
           ],
           "sequentialminus": [
            [
             0,
             "#0d0887"
            ],
            [
             0.1111111111111111,
             "#46039f"
            ],
            [
             0.2222222222222222,
             "#7201a8"
            ],
            [
             0.3333333333333333,
             "#9c179e"
            ],
            [
             0.4444444444444444,
             "#bd3786"
            ],
            [
             0.5555555555555556,
             "#d8576b"
            ],
            [
             0.6666666666666666,
             "#ed7953"
            ],
            [
             0.7777777777777778,
             "#fb9f3a"
            ],
            [
             0.8888888888888888,
             "#fdca26"
            ],
            [
             1,
             "#f0f921"
            ]
           ]
          },
          "colorway": [
           "#636efa",
           "#EF553B",
           "#00cc96",
           "#ab63fa",
           "#FFA15A",
           "#19d3f3",
           "#FF6692",
           "#B6E880",
           "#FF97FF",
           "#FECB52"
          ],
          "font": {
           "color": "#2a3f5f"
          },
          "geo": {
           "bgcolor": "white",
           "lakecolor": "white",
           "landcolor": "#E5ECF6",
           "showlakes": true,
           "showland": true,
           "subunitcolor": "white"
          },
          "hoverlabel": {
           "align": "left"
          },
          "hovermode": "closest",
          "mapbox": {
           "style": "light"
          },
          "paper_bgcolor": "white",
          "plot_bgcolor": "#E5ECF6",
          "polar": {
           "angularaxis": {
            "gridcolor": "white",
            "linecolor": "white",
            "ticks": ""
           },
           "bgcolor": "#E5ECF6",
           "radialaxis": {
            "gridcolor": "white",
            "linecolor": "white",
            "ticks": ""
           }
          },
          "scene": {
           "xaxis": {
            "backgroundcolor": "#E5ECF6",
            "gridcolor": "white",
            "gridwidth": 2,
            "linecolor": "white",
            "showbackground": true,
            "ticks": "",
            "zerolinecolor": "white"
           },
           "yaxis": {
            "backgroundcolor": "#E5ECF6",
            "gridcolor": "white",
            "gridwidth": 2,
            "linecolor": "white",
            "showbackground": true,
            "ticks": "",
            "zerolinecolor": "white"
           },
           "zaxis": {
            "backgroundcolor": "#E5ECF6",
            "gridcolor": "white",
            "gridwidth": 2,
            "linecolor": "white",
            "showbackground": true,
            "ticks": "",
            "zerolinecolor": "white"
           }
          },
          "shapedefaults": {
           "line": {
            "color": "#2a3f5f"
           }
          },
          "ternary": {
           "aaxis": {
            "gridcolor": "white",
            "linecolor": "white",
            "ticks": ""
           },
           "baxis": {
            "gridcolor": "white",
            "linecolor": "white",
            "ticks": ""
           },
           "bgcolor": "#E5ECF6",
           "caxis": {
            "gridcolor": "white",
            "linecolor": "white",
            "ticks": ""
           }
          },
          "title": {
           "x": 0.05
          },
          "xaxis": {
           "automargin": true,
           "gridcolor": "white",
           "linecolor": "white",
           "ticks": "",
           "title": {
            "standoff": 15
           },
           "zerolinecolor": "white",
           "zerolinewidth": 2
          },
          "yaxis": {
           "automargin": true,
           "gridcolor": "white",
           "linecolor": "white",
           "ticks": "",
           "title": {
            "standoff": 15
           },
           "zerolinecolor": "white",
           "zerolinewidth": 2
          }
         }
        }
       }
      }
     },
     "metadata": {},
     "output_type": "display_data"
    }
   ],
   "source": [
    "import plotly.graph_objects as go\n",
    "\n",
    "# 创建一个简单的 Treemap 图表\n",
    "labels = ['A', 'B', 'C']\n",
    "values = [10, 20, 30]\n",
    "custom_data = ['First line<br>Second line', 'Data with multiple lines', 'Single line']\n",
    "\n",
    "fig = go.Figure(go.Treemap(\n",
    "    labels=labels,\n",
    "    parents=['', '', ''],\n",
    "    values=values,\n",
    "    text=custom_data,  # 设置自定义数据为文本属性\n",
    "    texttemplate='%{text}',  # 使用 texttemplate 属性来渲染自定义数据\n",
    "     hoverinfo='none'  # 设置 hoverinfo 为 'none'，关闭悬停效果\n",
    "))\n",
    "\n",
    "# 显示图表\n",
    "fig.show()\n"
   ]
  },
  {
   "cell_type": "code",
   "execution_count": 59,
   "metadata": {},
   "outputs": [
    {
     "data": {
      "application/vnd.plotly.v1+json": {
       "config": {
        "plotlyServerURL": "https://plot.ly"
       },
       "data": [
        {
         "labels": [
          "A",
          "B",
          "C"
         ],
         "parents": [
          "",
          "",
          ""
         ],
         "type": "treemap",
         "values": [
          10,
          20,
          30
         ]
        }
       ],
       "layout": {
        "images": [
         {
          "sizex": 0.4,
          "sizey": 0.4,
          "source": "data:image/png;base64,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",
          "x": 0,
          "xanchor": "left",
          "xref": "paper",
          "y": 1,
          "yanchor": "top",
          "yref": "paper"
         }
        ],
        "template": {
         "data": {
          "bar": [
           {
            "error_x": {
             "color": "#2a3f5f"
            },
            "error_y": {
             "color": "#2a3f5f"
            },
            "marker": {
             "line": {
              "color": "white",
              "width": 0.5
             },
             "pattern": {
              "fillmode": "overlay",
              "size": 10,
              "solidity": 0.2
             }
            },
            "type": "bar"
           }
          ],
          "barpolar": [
           {
            "marker": {
             "line": {
              "color": "white",
              "width": 0.5
             },
             "pattern": {
              "fillmode": "overlay",
              "size": 10,
              "solidity": 0.2
             }
            },
            "type": "barpolar"
           }
          ],
          "carpet": [
           {
            "aaxis": {
             "endlinecolor": "#2a3f5f",
             "gridcolor": "#C8D4E3",
             "linecolor": "#C8D4E3",
             "minorgridcolor": "#C8D4E3",
             "startlinecolor": "#2a3f5f"
            },
            "baxis": {
             "endlinecolor": "#2a3f5f",
             "gridcolor": "#C8D4E3",
             "linecolor": "#C8D4E3",
             "minorgridcolor": "#C8D4E3",
             "startlinecolor": "#2a3f5f"
            },
            "type": "carpet"
           }
          ],
          "choropleth": [
           {
            "colorbar": {
             "outlinewidth": 0,
             "ticks": ""
            },
            "type": "choropleth"
           }
          ],
          "contour": [
           {
            "colorbar": {
             "outlinewidth": 0,
             "ticks": ""
            },
            "colorscale": [
             [
              0,
              "#0d0887"
             ],
             [
              0.1111111111111111,
              "#46039f"
             ],
             [
              0.2222222222222222,
              "#7201a8"
             ],
             [
              0.3333333333333333,
              "#9c179e"
             ],
             [
              0.4444444444444444,
              "#bd3786"
             ],
             [
              0.5555555555555556,
              "#d8576b"
             ],
             [
              0.6666666666666666,
              "#ed7953"
             ],
             [
              0.7777777777777778,
              "#fb9f3a"
             ],
             [
              0.8888888888888888,
              "#fdca26"
             ],
             [
              1,
              "#f0f921"
             ]
            ],
            "type": "contour"
           }
          ],
          "contourcarpet": [
           {
            "colorbar": {
             "outlinewidth": 0,
             "ticks": ""
            },
            "type": "contourcarpet"
           }
          ],
          "heatmap": [
           {
            "colorbar": {
             "outlinewidth": 0,
             "ticks": ""
            },
            "colorscale": [
             [
              0,
              "#0d0887"
             ],
             [
              0.1111111111111111,
              "#46039f"
             ],
             [
              0.2222222222222222,
              "#7201a8"
             ],
             [
              0.3333333333333333,
              "#9c179e"
             ],
             [
              0.4444444444444444,
              "#bd3786"
             ],
             [
              0.5555555555555556,
              "#d8576b"
             ],
             [
              0.6666666666666666,
              "#ed7953"
             ],
             [
              0.7777777777777778,
              "#fb9f3a"
             ],
             [
              0.8888888888888888,
              "#fdca26"
             ],
             [
              1,
              "#f0f921"
             ]
            ],
            "type": "heatmap"
           }
          ],
          "heatmapgl": [
           {
            "colorbar": {
             "outlinewidth": 0,
             "ticks": ""
            },
            "colorscale": [
             [
              0,
              "#0d0887"
             ],
             [
              0.1111111111111111,
              "#46039f"
             ],
             [
              0.2222222222222222,
              "#7201a8"
             ],
             [
              0.3333333333333333,
              "#9c179e"
             ],
             [
              0.4444444444444444,
              "#bd3786"
             ],
             [
              0.5555555555555556,
              "#d8576b"
             ],
             [
              0.6666666666666666,
              "#ed7953"
             ],
             [
              0.7777777777777778,
              "#fb9f3a"
             ],
             [
              0.8888888888888888,
              "#fdca26"
             ],
             [
              1,
              "#f0f921"
             ]
            ],
            "type": "heatmapgl"
           }
          ],
          "histogram": [
           {
            "marker": {
             "pattern": {
              "fillmode": "overlay",
              "size": 10,
              "solidity": 0.2
             }
            },
            "type": "histogram"
           }
          ],
          "histogram2d": [
           {
            "colorbar": {
             "outlinewidth": 0,
             "ticks": ""
            },
            "colorscale": [
             [
              0,
              "#0d0887"
             ],
             [
              0.1111111111111111,
              "#46039f"
             ],
             [
              0.2222222222222222,
              "#7201a8"
             ],
             [
              0.3333333333333333,
              "#9c179e"
             ],
             [
              0.4444444444444444,
              "#bd3786"
             ],
             [
              0.5555555555555556,
              "#d8576b"
             ],
             [
              0.6666666666666666,
              "#ed7953"
             ],
             [
              0.7777777777777778,
              "#fb9f3a"
             ],
             [
              0.8888888888888888,
              "#fdca26"
             ],
             [
              1,
              "#f0f921"
             ]
            ],
            "type": "histogram2d"
           }
          ],
          "histogram2dcontour": [
           {
            "colorbar": {
             "outlinewidth": 0,
             "ticks": ""
            },
            "colorscale": [
             [
              0,
              "#0d0887"
             ],
             [
              0.1111111111111111,
              "#46039f"
             ],
             [
              0.2222222222222222,
              "#7201a8"
             ],
             [
              0.3333333333333333,
              "#9c179e"
             ],
             [
              0.4444444444444444,
              "#bd3786"
             ],
             [
              0.5555555555555556,
              "#d8576b"
             ],
             [
              0.6666666666666666,
              "#ed7953"
             ],
             [
              0.7777777777777778,
              "#fb9f3a"
             ],
             [
              0.8888888888888888,
              "#fdca26"
             ],
             [
              1,
              "#f0f921"
             ]
            ],
            "type": "histogram2dcontour"
           }
          ],
          "mesh3d": [
           {
            "colorbar": {
             "outlinewidth": 0,
             "ticks": ""
            },
            "type": "mesh3d"
           }
          ],
          "parcoords": [
           {
            "line": {
             "colorbar": {
              "outlinewidth": 0,
              "ticks": ""
             }
            },
            "type": "parcoords"
           }
          ],
          "pie": [
           {
            "automargin": true,
            "type": "pie"
           }
          ],
          "scatter": [
           {
            "fillpattern": {
             "fillmode": "overlay",
             "size": 10,
             "solidity": 0.2
            },
            "type": "scatter"
           }
          ],
          "scatter3d": [
           {
            "line": {
             "colorbar": {
              "outlinewidth": 0,
              "ticks": ""
             }
            },
            "marker": {
             "colorbar": {
              "outlinewidth": 0,
              "ticks": ""
             }
            },
            "type": "scatter3d"
           }
          ],
          "scattercarpet": [
           {
            "marker": {
             "colorbar": {
              "outlinewidth": 0,
              "ticks": ""
             }
            },
            "type": "scattercarpet"
           }
          ],
          "scattergeo": [
           {
            "marker": {
             "colorbar": {
              "outlinewidth": 0,
              "ticks": ""
             }
            },
            "type": "scattergeo"
           }
          ],
          "scattergl": [
           {
            "marker": {
             "colorbar": {
              "outlinewidth": 0,
              "ticks": ""
             }
            },
            "type": "scattergl"
           }
          ],
          "scattermapbox": [
           {
            "marker": {
             "colorbar": {
              "outlinewidth": 0,
              "ticks": ""
             }
            },
            "type": "scattermapbox"
           }
          ],
          "scatterpolar": [
           {
            "marker": {
             "colorbar": {
              "outlinewidth": 0,
              "ticks": ""
             }
            },
            "type": "scatterpolar"
           }
          ],
          "scatterpolargl": [
           {
            "marker": {
             "colorbar": {
              "outlinewidth": 0,
              "ticks": ""
             }
            },
            "type": "scatterpolargl"
           }
          ],
          "scatterternary": [
           {
            "marker": {
             "colorbar": {
              "outlinewidth": 0,
              "ticks": ""
             }
            },
            "type": "scatterternary"
           }
          ],
          "surface": [
           {
            "colorbar": {
             "outlinewidth": 0,
             "ticks": ""
            },
            "colorscale": [
             [
              0,
              "#0d0887"
             ],
             [
              0.1111111111111111,
              "#46039f"
             ],
             [
              0.2222222222222222,
              "#7201a8"
             ],
             [
              0.3333333333333333,
              "#9c179e"
             ],
             [
              0.4444444444444444,
              "#bd3786"
             ],
             [
              0.5555555555555556,
              "#d8576b"
             ],
             [
              0.6666666666666666,
              "#ed7953"
             ],
             [
              0.7777777777777778,
              "#fb9f3a"
             ],
             [
              0.8888888888888888,
              "#fdca26"
             ],
             [
              1,
              "#f0f921"
             ]
            ],
            "type": "surface"
           }
          ],
          "table": [
           {
            "cells": {
             "fill": {
              "color": "#EBF0F8"
             },
             "line": {
              "color": "white"
             }
            },
            "header": {
             "fill": {
              "color": "#C8D4E3"
             },
             "line": {
              "color": "white"
             }
            },
            "type": "table"
           }
          ]
         },
         "layout": {
          "annotationdefaults": {
           "arrowcolor": "#2a3f5f",
           "arrowhead": 0,
           "arrowwidth": 1
          },
          "autotypenumbers": "strict",
          "coloraxis": {
           "colorbar": {
            "outlinewidth": 0,
            "ticks": ""
           }
          },
          "colorscale": {
           "diverging": [
            [
             0,
             "#8e0152"
            ],
            [
             0.1,
             "#c51b7d"
            ],
            [
             0.2,
             "#de77ae"
            ],
            [
             0.3,
             "#f1b6da"
            ],
            [
             0.4,
             "#fde0ef"
            ],
            [
             0.5,
             "#f7f7f7"
            ],
            [
             0.6,
             "#e6f5d0"
            ],
            [
             0.7,
             "#b8e186"
            ],
            [
             0.8,
             "#7fbc41"
            ],
            [
             0.9,
             "#4d9221"
            ],
            [
             1,
             "#276419"
            ]
           ],
           "sequential": [
            [
             0,
             "#0d0887"
            ],
            [
             0.1111111111111111,
             "#46039f"
            ],
            [
             0.2222222222222222,
             "#7201a8"
            ],
            [
             0.3333333333333333,
             "#9c179e"
            ],
            [
             0.4444444444444444,
             "#bd3786"
            ],
            [
             0.5555555555555556,
             "#d8576b"
            ],
            [
             0.6666666666666666,
             "#ed7953"
            ],
            [
             0.7777777777777778,
             "#fb9f3a"
            ],
            [
             0.8888888888888888,
             "#fdca26"
            ],
            [
             1,
             "#f0f921"
            ]
           ],
           "sequentialminus": [
            [
             0,
             "#0d0887"
            ],
            [
             0.1111111111111111,
             "#46039f"
            ],
            [
             0.2222222222222222,
             "#7201a8"
            ],
            [
             0.3333333333333333,
             "#9c179e"
            ],
            [
             0.4444444444444444,
             "#bd3786"
            ],
            [
             0.5555555555555556,
             "#d8576b"
            ],
            [
             0.6666666666666666,
             "#ed7953"
            ],
            [
             0.7777777777777778,
             "#fb9f3a"
            ],
            [
             0.8888888888888888,
             "#fdca26"
            ],
            [
             1,
             "#f0f921"
            ]
           ]
          },
          "colorway": [
           "#636efa",
           "#EF553B",
           "#00cc96",
           "#ab63fa",
           "#FFA15A",
           "#19d3f3",
           "#FF6692",
           "#B6E880",
           "#FF97FF",
           "#FECB52"
          ],
          "font": {
           "color": "#2a3f5f"
          },
          "geo": {
           "bgcolor": "white",
           "lakecolor": "white",
           "landcolor": "white",
           "showlakes": true,
           "showland": true,
           "subunitcolor": "#C8D4E3"
          },
          "hoverlabel": {
           "align": "left"
          },
          "hovermode": "closest",
          "mapbox": {
           "style": "light"
          },
          "paper_bgcolor": "white",
          "plot_bgcolor": "white",
          "polar": {
           "angularaxis": {
            "gridcolor": "#EBF0F8",
            "linecolor": "#EBF0F8",
            "ticks": ""
           },
           "bgcolor": "white",
           "radialaxis": {
            "gridcolor": "#EBF0F8",
            "linecolor": "#EBF0F8",
            "ticks": ""
           }
          },
          "scene": {
           "xaxis": {
            "backgroundcolor": "white",
            "gridcolor": "#DFE8F3",
            "gridwidth": 2,
            "linecolor": "#EBF0F8",
            "showbackground": true,
            "ticks": "",
            "zerolinecolor": "#EBF0F8"
           },
           "yaxis": {
            "backgroundcolor": "white",
            "gridcolor": "#DFE8F3",
            "gridwidth": 2,
            "linecolor": "#EBF0F8",
            "showbackground": true,
            "ticks": "",
            "zerolinecolor": "#EBF0F8"
           },
           "zaxis": {
            "backgroundcolor": "white",
            "gridcolor": "#DFE8F3",
            "gridwidth": 2,
            "linecolor": "#EBF0F8",
            "showbackground": true,
            "ticks": "",
            "zerolinecolor": "#EBF0F8"
           }
          },
          "shapedefaults": {
           "line": {
            "color": "#2a3f5f"
           }
          },
          "ternary": {
           "aaxis": {
            "gridcolor": "#DFE8F3",
            "linecolor": "#A2B1C6",
            "ticks": ""
           },
           "baxis": {
            "gridcolor": "#DFE8F3",
            "linecolor": "#A2B1C6",
            "ticks": ""
           },
           "bgcolor": "white",
           "caxis": {
            "gridcolor": "#DFE8F3",
            "linecolor": "#A2B1C6",
            "ticks": ""
           }
          },
          "title": {
           "x": 0.05
          },
          "xaxis": {
           "automargin": true,
           "gridcolor": "#EBF0F8",
           "linecolor": "#EBF0F8",
           "ticks": "",
           "title": {
            "standoff": 15
           },
           "zerolinecolor": "#EBF0F8",
           "zerolinewidth": 2
          },
          "yaxis": {
           "automargin": true,
           "gridcolor": "#EBF0F8",
           "linecolor": "#EBF0F8",
           "ticks": "",
           "title": {
            "standoff": 15
           },
           "zerolinecolor": "#EBF0F8",
           "zerolinewidth": 2
          }
         }
        }
       }
      }
     },
     "metadata": {},
     "output_type": "display_data"
    }
   ],
   "source": [
    "import plotly.graph_objects as go\n",
    "from PIL import Image\n",
    "\n",
    "# 创建一个简单的 Treemap 图表\n",
    "labels = ['A', 'B', 'C']\n",
    "values = [10, 20, 30]\n",
    "\n",
    "fig = go.Figure(go.Treemap(\n",
    "    labels=labels,\n",
    "    parents=['', '', ''],\n",
    "    values=values\n",
    "))\n",
    "\n",
    "# 加载自定义图片\n",
    "image_path = \"img/1.png.png\"  # 替换为您自己的图片路径\n",
    "image = Image.open(image_path)\n",
    "\n",
    "# 获取 Treemap 图表的布局信息\n",
    "layout = fig.layout\n",
    "\n",
    "# 添加图片对象到每个矩形的注释中\n",
    "for i, label in enumerate(labels):\n",
    "    # 计算注释的坐标位置\n",
    "    x = layout.treemap[i].x\n",
    "    y = layout.treemap[i].y\n",
    "    width = layout.treemap[i].width\n",
    "    height = layout.treemap[i].height\n",
    "\n",
    "    # 创建图片对象\n",
    "    annotation = go.layout.Annotation(\n",
    "        x=x + width/2,\n",
    "        y=y + height/2,\n",
    "        xref='x',\n",
    "        yref='y',\n",
    "        text='',\n",
    "        showarrow=False,\n",
    "        font=dict(color='rgba(0, 0, 0, 0)'),  # 设置字体颜色为透明，使图片覆盖整个矩形\n",
    "        align='center',\n",
    "        opacity=1,\n",
    "        xanchor='center',\n",
    "        yanchor='middle',\n",
    "        xclick=x + width/2,\n",
    "        yclick=y + height/2,\n",
    "        captureevents=True,\n",
    "        hovertext=label,  # 设置悬停时显示的标签\n",
    "        hoverlabel=dict(\n",
    "            bgcolor='white',  # 设置悬停时显示的标签背景颜色为白色\n"
   ]
  }
 ],
 "metadata": {
  "kernelspec": {
   "display_name": "base",
   "language": "python",
   "name": "python3"
  },
  "language_info": {
   "codemirror_mode": {
    "name": "ipython",
    "version": 3
   },
   "file_extension": ".py",
   "mimetype": "text/x-python",
   "name": "python",
   "nbconvert_exporter": "python",
   "pygments_lexer": "ipython3",
   "version": "3.8.8"
  },
  "orig_nbformat": 4
 },
 "nbformat": 4,
 "nbformat_minor": 2
}
